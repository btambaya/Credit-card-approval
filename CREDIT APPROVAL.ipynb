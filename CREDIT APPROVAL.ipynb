{
 "cells": [
  {
   "cell_type": "code",
   "execution_count": 1,
   "id": "766269a8",
   "metadata": {},
   "outputs": [],
   "source": [
    "from pyspark.sql import SparkSession\n",
    "from pyspark.sql.functions import (countDistinct, avg, stddev, corr, format_number,\n",
    "                                   regexp_replace, dayofmonth, hour, dayofyear,month,\n",
    "                                   year)"
   ]
  },
  {
   "cell_type": "code",
   "execution_count": 2,
   "id": "f2f2b704",
   "metadata": {},
   "outputs": [],
   "source": [
    "spark = SparkSession.builder.appName(\"credit\").getOrCreate()"
   ]
  },
  {
   "cell_type": "code",
   "execution_count": 3,
   "id": "6b1adf7b",
   "metadata": {},
   "outputs": [
    {
     "data": {
      "text/html": [
       "\n",
       "            <div>\n",
       "                <p><b>SparkSession - in-memory</b></p>\n",
       "                \n",
       "        <div>\n",
       "            <p><b>SparkContext</b></p>\n",
       "\n",
       "            <p><a href=\"http://pc-196-92.customer.ask4.lan:4041\">Spark UI</a></p>\n",
       "\n",
       "            <dl>\n",
       "              <dt>Version</dt>\n",
       "                <dd><code>v3.1.2</code></dd>\n",
       "              <dt>Master</dt>\n",
       "                <dd><code>local[*]</code></dd>\n",
       "              <dt>AppName</dt>\n",
       "                <dd><code>credit</code></dd>\n",
       "            </dl>\n",
       "        </div>\n",
       "        \n",
       "            </div>\n",
       "        "
      ],
      "text/plain": [
       "<pyspark.sql.session.SparkSession at 0x7fb6204a1cd0>"
      ]
     },
     "execution_count": 3,
     "metadata": {},
     "output_type": "execute_result"
    }
   ],
   "source": [
    "spark"
   ]
  },
  {
   "cell_type": "code",
   "execution_count": 4,
   "id": "7bfae59e",
   "metadata": {},
   "outputs": [],
   "source": [
    "# loading the dataset\n",
    "df = spark.read.csv(\"application_record.csv\", header = True, inferSchema = True)"
   ]
  },
  {
   "cell_type": "code",
   "execution_count": 5,
   "id": "48e8ef67",
   "metadata": {},
   "outputs": [
    {
     "name": "stdout",
     "output_type": "stream",
     "text": [
      "+-------+-----------+------------+---------------+------------+----------------+--------------------+--------------------+--------------------+-----------------+----------+-------------+----------+---------------+----------+----------+---------------+---------------+\n",
      "|     ID|CODE_GENDER|FLAG_OWN_CAR|FLAG_OWN_REALTY|CNT_CHILDREN|AMT_INCOME_TOTAL|    NAME_INCOME_TYPE| NAME_EDUCATION_TYPE|  NAME_FAMILY_STATUS|NAME_HOUSING_TYPE|DAYS_BIRTH|DAYS_EMPLOYED|FLAG_MOBIL|FLAG_WORK_PHONE|FLAG_PHONE|FLAG_EMAIL|OCCUPATION_TYPE|CNT_FAM_MEMBERS|\n",
      "+-------+-----------+------------+---------------+------------+----------------+--------------------+--------------------+--------------------+-----------------+----------+-------------+----------+---------------+----------+----------+---------------+---------------+\n",
      "|5008804|          M|           Y|              Y|           0|        427500.0|             Working|    Higher education|      Civil marriage| Rented apartment|    -12005|        -4542|         1|              1|         0|         0|           null|            2.0|\n",
      "|5008805|          M|           Y|              Y|           0|        427500.0|             Working|    Higher education|      Civil marriage| Rented apartment|    -12005|        -4542|         1|              1|         0|         0|           null|            2.0|\n",
      "|5008806|          M|           Y|              Y|           0|        112500.0|             Working|Secondary / secon...|             Married|House / apartment|    -21474|        -1134|         1|              0|         0|         0| Security staff|            2.0|\n",
      "|5008808|          F|           N|              Y|           0|        270000.0|Commercial associate|Secondary / secon...|Single / not married|House / apartment|    -19110|        -3051|         1|              0|         1|         1|    Sales staff|            1.0|\n",
      "|5008809|          F|           N|              Y|           0|        270000.0|Commercial associate|Secondary / secon...|Single / not married|House / apartment|    -19110|        -3051|         1|              0|         1|         1|    Sales staff|            1.0|\n",
      "|5008810|          F|           N|              Y|           0|        270000.0|Commercial associate|Secondary / secon...|Single / not married|House / apartment|    -19110|        -3051|         1|              0|         1|         1|    Sales staff|            1.0|\n",
      "|5008811|          F|           N|              Y|           0|        270000.0|Commercial associate|Secondary / secon...|Single / not married|House / apartment|    -19110|        -3051|         1|              0|         1|         1|    Sales staff|            1.0|\n",
      "|5008812|          F|           N|              Y|           0|        283500.0|           Pensioner|    Higher education|           Separated|House / apartment|    -22464|       365243|         1|              0|         0|         0|           null|            1.0|\n",
      "|5008813|          F|           N|              Y|           0|        283500.0|           Pensioner|    Higher education|           Separated|House / apartment|    -22464|       365243|         1|              0|         0|         0|           null|            1.0|\n",
      "|5008814|          F|           N|              Y|           0|        283500.0|           Pensioner|    Higher education|           Separated|House / apartment|    -22464|       365243|         1|              0|         0|         0|           null|            1.0|\n",
      "|5008815|          M|           Y|              Y|           0|        270000.0|             Working|    Higher education|             Married|House / apartment|    -16872|         -769|         1|              1|         1|         1|    Accountants|            2.0|\n",
      "|5112956|          M|           Y|              Y|           0|        270000.0|             Working|    Higher education|             Married|House / apartment|    -16872|         -769|         1|              1|         1|         1|    Accountants|            2.0|\n",
      "|6153651|          M|           Y|              Y|           0|        270000.0|             Working|    Higher education|             Married|House / apartment|    -16872|         -769|         1|              1|         1|         1|    Accountants|            2.0|\n",
      "|5008819|          M|           Y|              Y|           0|        135000.0|Commercial associate|Secondary / secon...|             Married|House / apartment|    -17778|        -1194|         1|              0|         0|         0|       Laborers|            2.0|\n",
      "|5008820|          M|           Y|              Y|           0|        135000.0|Commercial associate|Secondary / secon...|             Married|House / apartment|    -17778|        -1194|         1|              0|         0|         0|       Laborers|            2.0|\n",
      "|5008821|          M|           Y|              Y|           0|        135000.0|Commercial associate|Secondary / secon...|             Married|House / apartment|    -17778|        -1194|         1|              0|         0|         0|       Laborers|            2.0|\n",
      "|5008822|          M|           Y|              Y|           0|        135000.0|Commercial associate|Secondary / secon...|             Married|House / apartment|    -17778|        -1194|         1|              0|         0|         0|       Laborers|            2.0|\n",
      "|5008823|          M|           Y|              Y|           0|        135000.0|Commercial associate|Secondary / secon...|             Married|House / apartment|    -17778|        -1194|         1|              0|         0|         0|       Laborers|            2.0|\n",
      "|5008824|          M|           Y|              Y|           0|        135000.0|Commercial associate|Secondary / secon...|             Married|House / apartment|    -17778|        -1194|         1|              0|         0|         0|       Laborers|            2.0|\n",
      "|5008825|          F|           Y|              N|           0|        130500.0|             Working|   Incomplete higher|             Married|House / apartment|    -10669|        -1103|         1|              0|         0|         0|    Accountants|            2.0|\n",
      "+-------+-----------+------------+---------------+------------+----------------+--------------------+--------------------+--------------------+-----------------+----------+-------------+----------+---------------+----------+----------+---------------+---------------+\n",
      "only showing top 20 rows\n",
      "\n"
     ]
    }
   ],
   "source": [
    "df.show()"
   ]
  },
  {
   "cell_type": "code",
   "execution_count": 6,
   "id": "455f8b6b",
   "metadata": {},
   "outputs": [
    {
     "name": "stdout",
     "output_type": "stream",
     "text": [
      "-RECORD 0-----------------------------------\n",
      " ID                  | 5008804              \n",
      " CODE_GENDER         | M                    \n",
      " FLAG_OWN_CAR        | Y                    \n",
      " FLAG_OWN_REALTY     | Y                    \n",
      " CNT_CHILDREN        | 0                    \n",
      " AMT_INCOME_TOTAL    | 427500.0             \n",
      " NAME_INCOME_TYPE    | Working              \n",
      " NAME_EDUCATION_TYPE | Higher education     \n",
      " NAME_FAMILY_STATUS  | Civil marriage       \n",
      " NAME_HOUSING_TYPE   | Rented apartment     \n",
      " DAYS_BIRTH          | -12005               \n",
      " DAYS_EMPLOYED       | -4542                \n",
      " FLAG_MOBIL          | 1                    \n",
      " FLAG_WORK_PHONE     | 1                    \n",
      " FLAG_PHONE          | 0                    \n",
      " FLAG_EMAIL          | 0                    \n",
      " OCCUPATION_TYPE     | null                 \n",
      " CNT_FAM_MEMBERS     | 2.0                  \n",
      "-RECORD 1-----------------------------------\n",
      " ID                  | 5008805              \n",
      " CODE_GENDER         | M                    \n",
      " FLAG_OWN_CAR        | Y                    \n",
      " FLAG_OWN_REALTY     | Y                    \n",
      " CNT_CHILDREN        | 0                    \n",
      " AMT_INCOME_TOTAL    | 427500.0             \n",
      " NAME_INCOME_TYPE    | Working              \n",
      " NAME_EDUCATION_TYPE | Higher education     \n",
      " NAME_FAMILY_STATUS  | Civil marriage       \n",
      " NAME_HOUSING_TYPE   | Rented apartment     \n",
      " DAYS_BIRTH          | -12005               \n",
      " DAYS_EMPLOYED       | -4542                \n",
      " FLAG_MOBIL          | 1                    \n",
      " FLAG_WORK_PHONE     | 1                    \n",
      " FLAG_PHONE          | 0                    \n",
      " FLAG_EMAIL          | 0                    \n",
      " OCCUPATION_TYPE     | null                 \n",
      " CNT_FAM_MEMBERS     | 2.0                  \n",
      "-RECORD 2-----------------------------------\n",
      " ID                  | 5008806              \n",
      " CODE_GENDER         | M                    \n",
      " FLAG_OWN_CAR        | Y                    \n",
      " FLAG_OWN_REALTY     | Y                    \n",
      " CNT_CHILDREN        | 0                    \n",
      " AMT_INCOME_TOTAL    | 112500.0             \n",
      " NAME_INCOME_TYPE    | Working              \n",
      " NAME_EDUCATION_TYPE | Secondary / secon... \n",
      " NAME_FAMILY_STATUS  | Married              \n",
      " NAME_HOUSING_TYPE   | House / apartment    \n",
      " DAYS_BIRTH          | -21474               \n",
      " DAYS_EMPLOYED       | -1134                \n",
      " FLAG_MOBIL          | 1                    \n",
      " FLAG_WORK_PHONE     | 0                    \n",
      " FLAG_PHONE          | 0                    \n",
      " FLAG_EMAIL          | 0                    \n",
      " OCCUPATION_TYPE     | Security staff       \n",
      " CNT_FAM_MEMBERS     | 2.0                  \n",
      "-RECORD 3-----------------------------------\n",
      " ID                  | 5008808              \n",
      " CODE_GENDER         | F                    \n",
      " FLAG_OWN_CAR        | N                    \n",
      " FLAG_OWN_REALTY     | Y                    \n",
      " CNT_CHILDREN        | 0                    \n",
      " AMT_INCOME_TOTAL    | 270000.0             \n",
      " NAME_INCOME_TYPE    | Commercial associate \n",
      " NAME_EDUCATION_TYPE | Secondary / secon... \n",
      " NAME_FAMILY_STATUS  | Single / not married \n",
      " NAME_HOUSING_TYPE   | House / apartment    \n",
      " DAYS_BIRTH          | -19110               \n",
      " DAYS_EMPLOYED       | -3051                \n",
      " FLAG_MOBIL          | 1                    \n",
      " FLAG_WORK_PHONE     | 0                    \n",
      " FLAG_PHONE          | 1                    \n",
      " FLAG_EMAIL          | 1                    \n",
      " OCCUPATION_TYPE     | Sales staff          \n",
      " CNT_FAM_MEMBERS     | 1.0                  \n",
      "-RECORD 4-----------------------------------\n",
      " ID                  | 5008809              \n",
      " CODE_GENDER         | F                    \n",
      " FLAG_OWN_CAR        | N                    \n",
      " FLAG_OWN_REALTY     | Y                    \n",
      " CNT_CHILDREN        | 0                    \n",
      " AMT_INCOME_TOTAL    | 270000.0             \n",
      " NAME_INCOME_TYPE    | Commercial associate \n",
      " NAME_EDUCATION_TYPE | Secondary / secon... \n",
      " NAME_FAMILY_STATUS  | Single / not married \n",
      " NAME_HOUSING_TYPE   | House / apartment    \n",
      " DAYS_BIRTH          | -19110               \n",
      " DAYS_EMPLOYED       | -3051                \n",
      " FLAG_MOBIL          | 1                    \n",
      " FLAG_WORK_PHONE     | 0                    \n",
      " FLAG_PHONE          | 1                    \n",
      " FLAG_EMAIL          | 1                    \n",
      " OCCUPATION_TYPE     | Sales staff          \n",
      " CNT_FAM_MEMBERS     | 1.0                  \n",
      "-RECORD 5-----------------------------------\n",
      " ID                  | 5008810              \n",
      " CODE_GENDER         | F                    \n",
      " FLAG_OWN_CAR        | N                    \n",
      " FLAG_OWN_REALTY     | Y                    \n",
      " CNT_CHILDREN        | 0                    \n",
      " AMT_INCOME_TOTAL    | 270000.0             \n",
      " NAME_INCOME_TYPE    | Commercial associate \n",
      " NAME_EDUCATION_TYPE | Secondary / secon... \n",
      " NAME_FAMILY_STATUS  | Single / not married \n",
      " NAME_HOUSING_TYPE   | House / apartment    \n",
      " DAYS_BIRTH          | -19110               \n",
      " DAYS_EMPLOYED       | -3051                \n",
      " FLAG_MOBIL          | 1                    \n",
      " FLAG_WORK_PHONE     | 0                    \n",
      " FLAG_PHONE          | 1                    \n",
      " FLAG_EMAIL          | 1                    \n",
      " OCCUPATION_TYPE     | Sales staff          \n",
      " CNT_FAM_MEMBERS     | 1.0                  \n",
      "-RECORD 6-----------------------------------\n",
      " ID                  | 5008811              \n",
      " CODE_GENDER         | F                    \n",
      " FLAG_OWN_CAR        | N                    \n",
      " FLAG_OWN_REALTY     | Y                    \n",
      " CNT_CHILDREN        | 0                    \n",
      " AMT_INCOME_TOTAL    | 270000.0             \n",
      " NAME_INCOME_TYPE    | Commercial associate \n",
      " NAME_EDUCATION_TYPE | Secondary / secon... \n",
      " NAME_FAMILY_STATUS  | Single / not married \n",
      " NAME_HOUSING_TYPE   | House / apartment    \n",
      " DAYS_BIRTH          | -19110               \n",
      " DAYS_EMPLOYED       | -3051                \n",
      " FLAG_MOBIL          | 1                    \n",
      " FLAG_WORK_PHONE     | 0                    \n",
      " FLAG_PHONE          | 1                    \n",
      " FLAG_EMAIL          | 1                    \n",
      " OCCUPATION_TYPE     | Sales staff          \n",
      " CNT_FAM_MEMBERS     | 1.0                  \n",
      "-RECORD 7-----------------------------------\n",
      " ID                  | 5008812              \n",
      " CODE_GENDER         | F                    \n",
      " FLAG_OWN_CAR        | N                    \n",
      " FLAG_OWN_REALTY     | Y                    \n",
      " CNT_CHILDREN        | 0                    \n",
      " AMT_INCOME_TOTAL    | 283500.0             \n",
      " NAME_INCOME_TYPE    | Pensioner            \n",
      " NAME_EDUCATION_TYPE | Higher education     \n",
      " NAME_FAMILY_STATUS  | Separated            \n",
      " NAME_HOUSING_TYPE   | House / apartment    \n",
      " DAYS_BIRTH          | -22464               \n",
      " DAYS_EMPLOYED       | 365243               \n",
      " FLAG_MOBIL          | 1                    \n",
      " FLAG_WORK_PHONE     | 0                    \n",
      " FLAG_PHONE          | 0                    \n",
      " FLAG_EMAIL          | 0                    \n",
      " OCCUPATION_TYPE     | null                 \n",
      " CNT_FAM_MEMBERS     | 1.0                  \n",
      "-RECORD 8-----------------------------------\n",
      " ID                  | 5008813              \n",
      " CODE_GENDER         | F                    \n",
      " FLAG_OWN_CAR        | N                    \n",
      " FLAG_OWN_REALTY     | Y                    \n",
      " CNT_CHILDREN        | 0                    \n",
      " AMT_INCOME_TOTAL    | 283500.0             \n",
      " NAME_INCOME_TYPE    | Pensioner            \n",
      " NAME_EDUCATION_TYPE | Higher education     \n",
      " NAME_FAMILY_STATUS  | Separated            \n",
      " NAME_HOUSING_TYPE   | House / apartment    \n",
      " DAYS_BIRTH          | -22464               \n",
      " DAYS_EMPLOYED       | 365243               \n",
      " FLAG_MOBIL          | 1                    \n",
      " FLAG_WORK_PHONE     | 0                    \n",
      " FLAG_PHONE          | 0                    \n",
      " FLAG_EMAIL          | 0                    \n",
      " OCCUPATION_TYPE     | null                 \n",
      " CNT_FAM_MEMBERS     | 1.0                  \n",
      "-RECORD 9-----------------------------------\n",
      " ID                  | 5008814              \n",
      " CODE_GENDER         | F                    \n",
      " FLAG_OWN_CAR        | N                    \n",
      " FLAG_OWN_REALTY     | Y                    \n",
      " CNT_CHILDREN        | 0                    \n",
      " AMT_INCOME_TOTAL    | 283500.0             \n",
      " NAME_INCOME_TYPE    | Pensioner            \n",
      " NAME_EDUCATION_TYPE | Higher education     \n",
      " NAME_FAMILY_STATUS  | Separated            \n",
      " NAME_HOUSING_TYPE   | House / apartment    \n",
      " DAYS_BIRTH          | -22464               \n",
      " DAYS_EMPLOYED       | 365243               \n",
      " FLAG_MOBIL          | 1                    \n",
      " FLAG_WORK_PHONE     | 0                    \n",
      " FLAG_PHONE          | 0                    \n",
      " FLAG_EMAIL          | 0                    \n",
      " OCCUPATION_TYPE     | null                 \n",
      " CNT_FAM_MEMBERS     | 1.0                  \n",
      "-RECORD 10----------------------------------\n",
      " ID                  | 5008815              \n",
      " CODE_GENDER         | M                    \n",
      " FLAG_OWN_CAR        | Y                    \n",
      " FLAG_OWN_REALTY     | Y                    \n",
      " CNT_CHILDREN        | 0                    \n",
      " AMT_INCOME_TOTAL    | 270000.0             \n",
      " NAME_INCOME_TYPE    | Working              \n",
      " NAME_EDUCATION_TYPE | Higher education     \n",
      " NAME_FAMILY_STATUS  | Married              \n",
      " NAME_HOUSING_TYPE   | House / apartment    \n",
      " DAYS_BIRTH          | -16872               \n",
      " DAYS_EMPLOYED       | -769                 \n",
      " FLAG_MOBIL          | 1                    \n",
      " FLAG_WORK_PHONE     | 1                    \n",
      " FLAG_PHONE          | 1                    \n",
      " FLAG_EMAIL          | 1                    \n",
      " OCCUPATION_TYPE     | Accountants          \n",
      " CNT_FAM_MEMBERS     | 2.0                  \n",
      "-RECORD 11----------------------------------\n",
      " ID                  | 5112956              \n",
      " CODE_GENDER         | M                    \n",
      " FLAG_OWN_CAR        | Y                    \n",
      " FLAG_OWN_REALTY     | Y                    \n",
      " CNT_CHILDREN        | 0                    \n",
      " AMT_INCOME_TOTAL    | 270000.0             \n",
      " NAME_INCOME_TYPE    | Working              \n",
      " NAME_EDUCATION_TYPE | Higher education     \n",
      " NAME_FAMILY_STATUS  | Married              \n",
      " NAME_HOUSING_TYPE   | House / apartment    \n",
      " DAYS_BIRTH          | -16872               \n",
      " DAYS_EMPLOYED       | -769                 \n",
      " FLAG_MOBIL          | 1                    \n",
      " FLAG_WORK_PHONE     | 1                    \n",
      " FLAG_PHONE          | 1                    \n",
      " FLAG_EMAIL          | 1                    \n",
      " OCCUPATION_TYPE     | Accountants          \n",
      " CNT_FAM_MEMBERS     | 2.0                  \n",
      "-RECORD 12----------------------------------\n",
      " ID                  | 6153651              \n",
      " CODE_GENDER         | M                    \n",
      " FLAG_OWN_CAR        | Y                    \n",
      " FLAG_OWN_REALTY     | Y                    \n",
      " CNT_CHILDREN        | 0                    \n",
      " AMT_INCOME_TOTAL    | 270000.0             \n",
      " NAME_INCOME_TYPE    | Working              \n",
      " NAME_EDUCATION_TYPE | Higher education     \n",
      " NAME_FAMILY_STATUS  | Married              \n",
      " NAME_HOUSING_TYPE   | House / apartment    \n",
      " DAYS_BIRTH          | -16872               \n",
      " DAYS_EMPLOYED       | -769                 \n",
      " FLAG_MOBIL          | 1                    \n",
      " FLAG_WORK_PHONE     | 1                    \n",
      " FLAG_PHONE          | 1                    \n",
      " FLAG_EMAIL          | 1                    \n",
      " OCCUPATION_TYPE     | Accountants          \n",
      " CNT_FAM_MEMBERS     | 2.0                  \n",
      "-RECORD 13----------------------------------\n",
      " ID                  | 5008819              \n",
      " CODE_GENDER         | M                    \n",
      " FLAG_OWN_CAR        | Y                    \n",
      " FLAG_OWN_REALTY     | Y                    \n",
      " CNT_CHILDREN        | 0                    \n",
      " AMT_INCOME_TOTAL    | 135000.0             \n",
      " NAME_INCOME_TYPE    | Commercial associate \n",
      " NAME_EDUCATION_TYPE | Secondary / secon... \n",
      " NAME_FAMILY_STATUS  | Married              \n",
      " NAME_HOUSING_TYPE   | House / apartment    \n",
      " DAYS_BIRTH          | -17778               \n",
      " DAYS_EMPLOYED       | -1194                \n",
      " FLAG_MOBIL          | 1                    \n",
      " FLAG_WORK_PHONE     | 0                    \n",
      " FLAG_PHONE          | 0                    \n",
      " FLAG_EMAIL          | 0                    \n",
      " OCCUPATION_TYPE     | Laborers             \n",
      " CNT_FAM_MEMBERS     | 2.0                  \n",
      "-RECORD 14----------------------------------\n",
      " ID                  | 5008820              \n",
      " CODE_GENDER         | M                    \n",
      " FLAG_OWN_CAR        | Y                    \n",
      " FLAG_OWN_REALTY     | Y                    \n",
      " CNT_CHILDREN        | 0                    \n",
      " AMT_INCOME_TOTAL    | 135000.0             \n",
      " NAME_INCOME_TYPE    | Commercial associate \n",
      " NAME_EDUCATION_TYPE | Secondary / secon... \n",
      " NAME_FAMILY_STATUS  | Married              \n",
      " NAME_HOUSING_TYPE   | House / apartment    \n",
      " DAYS_BIRTH          | -17778               \n",
      " DAYS_EMPLOYED       | -1194                \n",
      " FLAG_MOBIL          | 1                    \n",
      " FLAG_WORK_PHONE     | 0                    \n",
      " FLAG_PHONE          | 0                    \n",
      " FLAG_EMAIL          | 0                    \n",
      " OCCUPATION_TYPE     | Laborers             \n",
      " CNT_FAM_MEMBERS     | 2.0                  \n",
      "-RECORD 15----------------------------------\n",
      " ID                  | 5008821              \n",
      " CODE_GENDER         | M                    \n",
      " FLAG_OWN_CAR        | Y                    \n",
      " FLAG_OWN_REALTY     | Y                    \n",
      " CNT_CHILDREN        | 0                    \n",
      " AMT_INCOME_TOTAL    | 135000.0             \n",
      " NAME_INCOME_TYPE    | Commercial associate \n",
      " NAME_EDUCATION_TYPE | Secondary / secon... \n",
      " NAME_FAMILY_STATUS  | Married              \n",
      " NAME_HOUSING_TYPE   | House / apartment    \n",
      " DAYS_BIRTH          | -17778               \n",
      " DAYS_EMPLOYED       | -1194                \n",
      " FLAG_MOBIL          | 1                    \n",
      " FLAG_WORK_PHONE     | 0                    \n",
      " FLAG_PHONE          | 0                    \n",
      " FLAG_EMAIL          | 0                    \n",
      " OCCUPATION_TYPE     | Laborers             \n",
      " CNT_FAM_MEMBERS     | 2.0                  \n",
      "-RECORD 16----------------------------------\n",
      " ID                  | 5008822              \n",
      " CODE_GENDER         | M                    \n",
      " FLAG_OWN_CAR        | Y                    \n",
      " FLAG_OWN_REALTY     | Y                    \n",
      " CNT_CHILDREN        | 0                    \n",
      " AMT_INCOME_TOTAL    | 135000.0             \n",
      " NAME_INCOME_TYPE    | Commercial associate \n",
      " NAME_EDUCATION_TYPE | Secondary / secon... \n",
      " NAME_FAMILY_STATUS  | Married              \n",
      " NAME_HOUSING_TYPE   | House / apartment    \n",
      " DAYS_BIRTH          | -17778               \n",
      " DAYS_EMPLOYED       | -1194                \n",
      " FLAG_MOBIL          | 1                    \n",
      " FLAG_WORK_PHONE     | 0                    \n",
      " FLAG_PHONE          | 0                    \n",
      " FLAG_EMAIL          | 0                    \n",
      " OCCUPATION_TYPE     | Laborers             \n",
      " CNT_FAM_MEMBERS     | 2.0                  \n",
      "-RECORD 17----------------------------------\n",
      " ID                  | 5008823              \n",
      " CODE_GENDER         | M                    \n",
      " FLAG_OWN_CAR        | Y                    \n",
      " FLAG_OWN_REALTY     | Y                    \n",
      " CNT_CHILDREN        | 0                    \n",
      " AMT_INCOME_TOTAL    | 135000.0             \n",
      " NAME_INCOME_TYPE    | Commercial associate \n",
      " NAME_EDUCATION_TYPE | Secondary / secon... \n",
      " NAME_FAMILY_STATUS  | Married              \n",
      " NAME_HOUSING_TYPE   | House / apartment    \n",
      " DAYS_BIRTH          | -17778               \n",
      " DAYS_EMPLOYED       | -1194                \n",
      " FLAG_MOBIL          | 1                    \n",
      " FLAG_WORK_PHONE     | 0                    \n",
      " FLAG_PHONE          | 0                    \n",
      " FLAG_EMAIL          | 0                    \n",
      " OCCUPATION_TYPE     | Laborers             \n",
      " CNT_FAM_MEMBERS     | 2.0                  \n",
      "-RECORD 18----------------------------------\n",
      " ID                  | 5008824              \n",
      " CODE_GENDER         | M                    \n",
      " FLAG_OWN_CAR        | Y                    \n",
      " FLAG_OWN_REALTY     | Y                    \n",
      " CNT_CHILDREN        | 0                    \n",
      " AMT_INCOME_TOTAL    | 135000.0             \n",
      " NAME_INCOME_TYPE    | Commercial associate \n",
      " NAME_EDUCATION_TYPE | Secondary / secon... \n",
      " NAME_FAMILY_STATUS  | Married              \n",
      " NAME_HOUSING_TYPE   | House / apartment    \n",
      " DAYS_BIRTH          | -17778               \n",
      " DAYS_EMPLOYED       | -1194                \n",
      " FLAG_MOBIL          | 1                    \n",
      " FLAG_WORK_PHONE     | 0                    \n",
      " FLAG_PHONE          | 0                    \n",
      " FLAG_EMAIL          | 0                    \n",
      " OCCUPATION_TYPE     | Laborers             \n",
      " CNT_FAM_MEMBERS     | 2.0                  \n",
      "-RECORD 19----------------------------------\n",
      " ID                  | 5008825              \n",
      " CODE_GENDER         | F                    \n",
      " FLAG_OWN_CAR        | Y                    \n",
      " FLAG_OWN_REALTY     | N                    \n",
      " CNT_CHILDREN        | 0                    \n",
      " AMT_INCOME_TOTAL    | 130500.0             \n",
      " NAME_INCOME_TYPE    | Working              \n",
      " NAME_EDUCATION_TYPE | Incomplete higher    \n",
      " NAME_FAMILY_STATUS  | Married              \n",
      " NAME_HOUSING_TYPE   | House / apartment    \n",
      " DAYS_BIRTH          | -10669               \n",
      " DAYS_EMPLOYED       | -1103                \n",
      " FLAG_MOBIL          | 1                    \n",
      " FLAG_WORK_PHONE     | 0                    \n",
      " FLAG_PHONE          | 0                    \n",
      " FLAG_EMAIL          | 0                    \n",
      " OCCUPATION_TYPE     | Accountants          \n",
      " CNT_FAM_MEMBERS     | 2.0                  \n",
      "only showing top 20 rows\n",
      "\n"
     ]
    }
   ],
   "source": [
    "df.show(vertical=True)"
   ]
  },
  {
   "cell_type": "code",
   "execution_count": 7,
   "id": "2e791b6f",
   "metadata": {},
   "outputs": [
    {
     "name": "stdout",
     "output_type": "stream",
     "text": [
      "root\n",
      " |-- ID: integer (nullable = true)\n",
      " |-- CODE_GENDER: string (nullable = true)\n",
      " |-- FLAG_OWN_CAR: string (nullable = true)\n",
      " |-- FLAG_OWN_REALTY: string (nullable = true)\n",
      " |-- CNT_CHILDREN: integer (nullable = true)\n",
      " |-- AMT_INCOME_TOTAL: double (nullable = true)\n",
      " |-- NAME_INCOME_TYPE: string (nullable = true)\n",
      " |-- NAME_EDUCATION_TYPE: string (nullable = true)\n",
      " |-- NAME_FAMILY_STATUS: string (nullable = true)\n",
      " |-- NAME_HOUSING_TYPE: string (nullable = true)\n",
      " |-- DAYS_BIRTH: integer (nullable = true)\n",
      " |-- DAYS_EMPLOYED: integer (nullable = true)\n",
      " |-- FLAG_MOBIL: integer (nullable = true)\n",
      " |-- FLAG_WORK_PHONE: integer (nullable = true)\n",
      " |-- FLAG_PHONE: integer (nullable = true)\n",
      " |-- FLAG_EMAIL: integer (nullable = true)\n",
      " |-- OCCUPATION_TYPE: string (nullable = true)\n",
      " |-- CNT_FAM_MEMBERS: double (nullable = true)\n",
      "\n"
     ]
    }
   ],
   "source": [
    "df.printSchema()"
   ]
  },
  {
   "cell_type": "code",
   "execution_count": 8,
   "id": "334c3d53",
   "metadata": {},
   "outputs": [
    {
     "name": "stdout",
     "output_type": "stream",
     "text": [
      "+-------+-----------------+-----------+------------+---------------+-------------------+------------------+--------------------+--------------------+------------------+-----------------+-------------------+------------------+----------+-------------------+-------------------+-------------------+--------------------+------------------+\n",
      "|summary|               ID|CODE_GENDER|FLAG_OWN_CAR|FLAG_OWN_REALTY|       CNT_CHILDREN|  AMT_INCOME_TOTAL|    NAME_INCOME_TYPE| NAME_EDUCATION_TYPE|NAME_FAMILY_STATUS|NAME_HOUSING_TYPE|         DAYS_BIRTH|     DAYS_EMPLOYED|FLAG_MOBIL|    FLAG_WORK_PHONE|         FLAG_PHONE|         FLAG_EMAIL|     OCCUPATION_TYPE|   CNT_FAM_MEMBERS|\n",
      "+-------+-----------------+-----------+------------+---------------+-------------------+------------------+--------------------+--------------------+------------------+-----------------+-------------------+------------------+----------+-------------------+-------------------+-------------------+--------------------+------------------+\n",
      "|  count|           438557|     438557|      438557|         438557|             438557|            438557|              438557|              438557|            438557|           438557|             438557|            438557|    438557|             438557|             438557|             438557|              304354|            438557|\n",
      "|   mean|6022176.269841776|       null|        null|           null|0.42739028222101116| 187524.2860095039|                null|                null|              null|             null|-15997.904648654565| 60563.67532840657|       1.0| 0.2061328402009317|0.28777103090362255|0.10820714297115312|                null| 2.194465029631268|\n",
      "| stddev|571637.0232571274|       null|        null|           null|  0.724882213552147|110086.85306622912|                null|                null|              null|             null|  4185.030006794093|138767.79964666892|       0.0|0.40452745955008695|0.45272434441461806|0.31064220128266806|                null|0.8972073300563004|\n",
      "|    min|          5008804|          F|           N|              N|                  0|           26100.0|Commercial associate|     Academic degree|    Civil marriage|  Co-op apartment|             -25201|            -17531|         1|                  0|                  0|                  0|         Accountants|               1.0|\n",
      "|    max|          7999952|          M|           Y|              Y|                 19|         6750000.0|             Working|Secondary / secon...|             Widow|     With parents|              -7489|            365243|         1|                  1|                  1|                  1|Waiters/barmen staff|              20.0|\n",
      "+-------+-----------------+-----------+------------+---------------+-------------------+------------------+--------------------+--------------------+------------------+-----------------+-------------------+------------------+----------+-------------------+-------------------+-------------------+--------------------+------------------+\n",
      "\n"
     ]
    }
   ],
   "source": [
    "df.describe().show()"
   ]
  },
  {
   "cell_type": "code",
   "execution_count": 9,
   "id": "3d035fdc",
   "metadata": {},
   "outputs": [],
   "source": [
    "# creating a new column Age from DAYS_BIRTH\n",
    "new_df = df.withColumn('AGE', df['DAYS_BIRTH'] / 365 * (-1))"
   ]
  },
  {
   "cell_type": "code",
   "execution_count": 10,
   "id": "f30dd214",
   "metadata": {},
   "outputs": [
    {
     "name": "stdout",
     "output_type": "stream",
     "text": [
      "+------------------+\n",
      "|               AGE|\n",
      "+------------------+\n",
      "| 32.89041095890411|\n",
      "| 32.89041095890411|\n",
      "| 58.83287671232877|\n",
      "| 52.35616438356164|\n",
      "| 52.35616438356164|\n",
      "| 52.35616438356164|\n",
      "| 52.35616438356164|\n",
      "| 61.54520547945206|\n",
      "| 61.54520547945206|\n",
      "| 61.54520547945206|\n",
      "|46.224657534246575|\n",
      "|46.224657534246575|\n",
      "|46.224657534246575|\n",
      "|48.706849315068496|\n",
      "|48.706849315068496|\n",
      "|48.706849315068496|\n",
      "|48.706849315068496|\n",
      "|48.706849315068496|\n",
      "|48.706849315068496|\n",
      "| 29.23013698630137|\n",
      "+------------------+\n",
      "only showing top 20 rows\n",
      "\n"
     ]
    }
   ],
   "source": [
    "new_df.select('AGE').show()"
   ]
  },
  {
   "cell_type": "code",
   "execution_count": 11,
   "id": "c5014d0a",
   "metadata": {},
   "outputs": [],
   "source": [
    "# creating a new column YEARS_WORKED from DAYS_EMPLOYED\n",
    "new_df = new_df.withColumn('YEARS_WORKED', df['DAYS_EMPLOYED'] / 365 * (-1))"
   ]
  },
  {
   "cell_type": "code",
   "execution_count": 12,
   "id": "7270da7a",
   "metadata": {
    "scrolled": true
   },
   "outputs": [
    {
     "name": "stdout",
     "output_type": "stream",
     "text": [
      "+-------------------+\n",
      "|       YEARS_WORKED|\n",
      "+-------------------+\n",
      "| 12.443835616438356|\n",
      "| 12.443835616438356|\n",
      "|  3.106849315068493|\n",
      "|   8.35890410958904|\n",
      "|   8.35890410958904|\n",
      "|   8.35890410958904|\n",
      "|   8.35890410958904|\n",
      "|-1000.6657534246575|\n",
      "|-1000.6657534246575|\n",
      "|-1000.6657534246575|\n",
      "|  2.106849315068493|\n",
      "|  2.106849315068493|\n",
      "|  2.106849315068493|\n",
      "|  3.271232876712329|\n",
      "|  3.271232876712329|\n",
      "|  3.271232876712329|\n",
      "|  3.271232876712329|\n",
      "|  3.271232876712329|\n",
      "|  3.271232876712329|\n",
      "|  3.021917808219178|\n",
      "+-------------------+\n",
      "only showing top 20 rows\n",
      "\n"
     ]
    }
   ],
   "source": [
    "new_df.select('YEARS_WORKED').show()"
   ]
  },
  {
   "cell_type": "code",
   "execution_count": 13,
   "id": "3212ff5a",
   "metadata": {},
   "outputs": [],
   "source": [
    "# replacing -1000 with 40 in. YEARS_WORKED\n",
    "new_df = new_df.replace(-1000.6657534246575, 40, 'YEARS_WORKED')"
   ]
  },
  {
   "cell_type": "code",
   "execution_count": 14,
   "id": "b93f95fd",
   "metadata": {},
   "outputs": [
    {
     "name": "stdout",
     "output_type": "stream",
     "text": [
      "+------------------+\n",
      "|      YEARS_WORKED|\n",
      "+------------------+\n",
      "|12.443835616438356|\n",
      "|12.443835616438356|\n",
      "| 3.106849315068493|\n",
      "|  8.35890410958904|\n",
      "|  8.35890410958904|\n",
      "|  8.35890410958904|\n",
      "|  8.35890410958904|\n",
      "|              40.0|\n",
      "|              40.0|\n",
      "|              40.0|\n",
      "| 2.106849315068493|\n",
      "| 2.106849315068493|\n",
      "| 2.106849315068493|\n",
      "| 3.271232876712329|\n",
      "| 3.271232876712329|\n",
      "| 3.271232876712329|\n",
      "| 3.271232876712329|\n",
      "| 3.271232876712329|\n",
      "| 3.271232876712329|\n",
      "| 3.021917808219178|\n",
      "+------------------+\n",
      "only showing top 20 rows\n",
      "\n"
     ]
    }
   ],
   "source": [
    "new_df.select('YEARS_WORKED').show()"
   ]
  },
  {
   "cell_type": "code",
   "execution_count": 15,
   "id": "65e6bc91",
   "metadata": {},
   "outputs": [
    {
     "name": "stdout",
     "output_type": "stream",
     "text": [
      "+-----------+------+\n",
      "|CODE_GENDER| count|\n",
      "+-----------+------+\n",
      "|          F|294440|\n",
      "|          M|144117|\n",
      "+-----------+------+\n",
      "\n"
     ]
    }
   ],
   "source": [
    "new_df.groupBy('CODE_GENDER').count().show()"
   ]
  },
  {
   "cell_type": "code",
   "execution_count": 16,
   "id": "02946f9d",
   "metadata": {},
   "outputs": [],
   "source": [
    "new_df = new_df.replace(['F','M'],['0','1'],'CODE_GENDER')"
   ]
  },
  {
   "cell_type": "code",
   "execution_count": 17,
   "id": "1192fb65",
   "metadata": {},
   "outputs": [
    {
     "name": "stdout",
     "output_type": "stream",
     "text": [
      "+-----------+\n",
      "|CODE_GENDER|\n",
      "+-----------+\n",
      "|          1|\n",
      "|          1|\n",
      "|          1|\n",
      "|          0|\n",
      "|          0|\n",
      "|          0|\n",
      "|          0|\n",
      "|          0|\n",
      "|          0|\n",
      "|          0|\n",
      "|          1|\n",
      "|          1|\n",
      "|          1|\n",
      "|          1|\n",
      "|          1|\n",
      "|          1|\n",
      "|          1|\n",
      "|          1|\n",
      "|          1|\n",
      "|          0|\n",
      "+-----------+\n",
      "only showing top 20 rows\n",
      "\n"
     ]
    }
   ],
   "source": [
    "new_df.select('CODE_GENDER').show()"
   ]
  },
  {
   "cell_type": "code",
   "execution_count": 18,
   "id": "23c2d106",
   "metadata": {},
   "outputs": [
    {
     "name": "stdout",
     "output_type": "stream",
     "text": [
      "+------------+------+\n",
      "|FLAG_OWN_CAR| count|\n",
      "+------------+------+\n",
      "|           Y|163098|\n",
      "|           N|275459|\n",
      "+------------+------+\n",
      "\n"
     ]
    }
   ],
   "source": [
    "new_df.groupBy('FLAG_OWN_CAR').count().show()"
   ]
  },
  {
   "cell_type": "code",
   "execution_count": 19,
   "id": "bf4bf311",
   "metadata": {},
   "outputs": [],
   "source": [
    "new_df = new_df.replace(['Y','N'],['1','0'],'FLAG_OWN_CAR')"
   ]
  },
  {
   "cell_type": "code",
   "execution_count": 20,
   "id": "8dc3f6a5",
   "metadata": {},
   "outputs": [
    {
     "name": "stdout",
     "output_type": "stream",
     "text": [
      "+------------+\n",
      "|FLAG_OWN_CAR|\n",
      "+------------+\n",
      "|           1|\n",
      "|           1|\n",
      "|           1|\n",
      "|           0|\n",
      "|           0|\n",
      "|           0|\n",
      "|           0|\n",
      "|           0|\n",
      "|           0|\n",
      "|           0|\n",
      "|           1|\n",
      "|           1|\n",
      "|           1|\n",
      "|           1|\n",
      "|           1|\n",
      "|           1|\n",
      "|           1|\n",
      "|           1|\n",
      "|           1|\n",
      "|           1|\n",
      "+------------+\n",
      "only showing top 20 rows\n",
      "\n"
     ]
    }
   ],
   "source": [
    "new_df.select('FLAG_OWN_CAR').show()"
   ]
  },
  {
   "cell_type": "code",
   "execution_count": 21,
   "id": "fe953a13",
   "metadata": {},
   "outputs": [
    {
     "name": "stdout",
     "output_type": "stream",
     "text": [
      "+---------------+------+\n",
      "|FLAG_OWN_REALTY| count|\n",
      "+---------------+------+\n",
      "|              Y|304074|\n",
      "|              N|134483|\n",
      "+---------------+------+\n",
      "\n"
     ]
    }
   ],
   "source": [
    "new_df.groupBy('FLAG_OWN_REALTY').count().show()"
   ]
  },
  {
   "cell_type": "code",
   "execution_count": 22,
   "id": "ac9834b5",
   "metadata": {},
   "outputs": [],
   "source": [
    "new_df = new_df.replace(['Y','N'],['1','0'],'FLAG_OWN_REALTY')"
   ]
  },
  {
   "cell_type": "code",
   "execution_count": 23,
   "id": "041e8d8a",
   "metadata": {},
   "outputs": [
    {
     "name": "stdout",
     "output_type": "stream",
     "text": [
      "+---------------+\n",
      "|FLAG_OWN_REALTY|\n",
      "+---------------+\n",
      "|              1|\n",
      "|              1|\n",
      "|              1|\n",
      "|              1|\n",
      "|              1|\n",
      "|              1|\n",
      "|              1|\n",
      "|              1|\n",
      "|              1|\n",
      "|              1|\n",
      "|              1|\n",
      "|              1|\n",
      "|              1|\n",
      "|              1|\n",
      "|              1|\n",
      "|              1|\n",
      "|              1|\n",
      "|              1|\n",
      "|              1|\n",
      "|              0|\n",
      "+---------------+\n",
      "only showing top 20 rows\n",
      "\n"
     ]
    }
   ],
   "source": [
    "new_df.select('FLAG_OWN_REALTY').show()"
   ]
  },
  {
   "cell_type": "code",
   "execution_count": 24,
   "id": "fdfdb8ea",
   "metadata": {},
   "outputs": [
    {
     "name": "stdout",
     "output_type": "stream",
     "text": [
      "+------------+------+\n",
      "|CNT_CHILDREN| count|\n",
      "+------------+------+\n",
      "|          12|     4|\n",
      "|           1| 88527|\n",
      "|           6|     4|\n",
      "|           3|  5430|\n",
      "|           5|   133|\n",
      "|          19|     1|\n",
      "|           9|     5|\n",
      "|           4|   486|\n",
      "|           7|     9|\n",
      "|          14|     3|\n",
      "|           2| 39884|\n",
      "|           0|304071|\n",
      "+------------+------+\n",
      "\n"
     ]
    }
   ],
   "source": [
    "new_df.groupBy('CNT_CHILDREN').count().show()"
   ]
  },
  {
   "cell_type": "code",
   "execution_count": 25,
   "id": "2e217ba5",
   "metadata": {},
   "outputs": [
    {
     "name": "stdout",
     "output_type": "stream",
     "text": [
      "+--------------------+------+\n",
      "|    NAME_INCOME_TYPE| count|\n",
      "+--------------------+------+\n",
      "|             Student|    17|\n",
      "|Commercial associate|100757|\n",
      "|       State servant| 36186|\n",
      "|             Working|226104|\n",
      "|           Pensioner| 75493|\n",
      "+--------------------+------+\n",
      "\n"
     ]
    }
   ],
   "source": [
    "new_df.groupBy('NAME_INCOME_TYPE').count().show()"
   ]
  },
  {
   "cell_type": "code",
   "execution_count": 26,
   "id": "154f97f7",
   "metadata": {},
   "outputs": [
    {
     "name": "stdout",
     "output_type": "stream",
     "text": [
      "+----------------+\n",
      "|NAME_INCOME_TYPE|\n",
      "+----------------+\n",
      "|               4|\n",
      "|               4|\n",
      "|               4|\n",
      "|               2|\n",
      "|               2|\n",
      "|               2|\n",
      "|               2|\n",
      "|               5|\n",
      "|               5|\n",
      "|               5|\n",
      "|               4|\n",
      "|               4|\n",
      "|               4|\n",
      "|               2|\n",
      "|               2|\n",
      "|               2|\n",
      "|               2|\n",
      "|               2|\n",
      "|               2|\n",
      "|               4|\n",
      "+----------------+\n",
      "only showing top 20 rows\n",
      "\n"
     ]
    }
   ],
   "source": [
    "new_df = new_df.replace(['Student','Commercial associate','State servant','Working','Pensioner'],\n",
    "                        ['1','2','3','4','5'],'NAME_INCOME_TYPE')\n",
    "\n",
    "new_df.select('NAME_INCOME_TYPE').show()"
   ]
  },
  {
   "cell_type": "code",
   "execution_count": 27,
   "id": "e35932ec",
   "metadata": {},
   "outputs": [
    {
     "name": "stdout",
     "output_type": "stream",
     "text": [
      "+--------------------+------+\n",
      "| NAME_EDUCATION_TYPE| count|\n",
      "+--------------------+------+\n",
      "|     Academic degree|   312|\n",
      "|   Incomplete higher| 14851|\n",
      "|Secondary / secon...|301821|\n",
      "|     Lower secondary|  4051|\n",
      "|    Higher education|117522|\n",
      "+--------------------+------+\n",
      "\n"
     ]
    }
   ],
   "source": [
    "new_df.groupBy('NAME_EDUCATION_TYPE').count().show()"
   ]
  },
  {
   "cell_type": "code",
   "execution_count": 28,
   "id": "5cb163c4",
   "metadata": {},
   "outputs": [
    {
     "name": "stdout",
     "output_type": "stream",
     "text": [
      "+-------------------+\n",
      "|NAME_EDUCATION_TYPE|\n",
      "+-------------------+\n",
      "|                  5|\n",
      "|                  5|\n",
      "|                  3|\n",
      "|                  3|\n",
      "|                  3|\n",
      "|                  3|\n",
      "|                  3|\n",
      "|                  5|\n",
      "|                  5|\n",
      "|                  5|\n",
      "|                  5|\n",
      "|                  5|\n",
      "|                  5|\n",
      "|                  3|\n",
      "|                  3|\n",
      "|                  3|\n",
      "|                  3|\n",
      "|                  3|\n",
      "|                  3|\n",
      "|                  2|\n",
      "+-------------------+\n",
      "only showing top 20 rows\n",
      "\n"
     ]
    }
   ],
   "source": [
    "new_df = new_df.replace(['Academic degree','Incomplete higher','Secondary / secondary special','Lower secondary','Higher education'],\n",
    "                        ['1','2','3','4','5'],'NAME_EDUCATION_TYPE')\n",
    "\n",
    "new_df.select('NAME_EDUCATION_TYPE').show()"
   ]
  },
  {
   "cell_type": "code",
   "execution_count": 29,
   "id": "01fb2251",
   "metadata": {},
   "outputs": [
    {
     "name": "stdout",
     "output_type": "stream",
     "text": [
      "+--------------------+------+\n",
      "|  NAME_FAMILY_STATUS| count|\n",
      "+--------------------+------+\n",
      "|           Separated| 27251|\n",
      "|             Married|299828|\n",
      "|Single / not married| 55271|\n",
      "|               Widow| 19675|\n",
      "|      Civil marriage| 36532|\n",
      "+--------------------+------+\n",
      "\n"
     ]
    }
   ],
   "source": [
    "new_df.groupBy('NAME_FAMILY_STATUS').count().show()"
   ]
  },
  {
   "cell_type": "code",
   "execution_count": 30,
   "id": "26fef3c7",
   "metadata": {},
   "outputs": [
    {
     "name": "stdout",
     "output_type": "stream",
     "text": [
      "+------------------+\n",
      "|NAME_FAMILY_STATUS|\n",
      "+------------------+\n",
      "|                 5|\n",
      "|                 5|\n",
      "|                 2|\n",
      "|                 3|\n",
      "|                 3|\n",
      "|                 3|\n",
      "|                 3|\n",
      "|                 1|\n",
      "|                 1|\n",
      "|                 1|\n",
      "|                 2|\n",
      "|                 2|\n",
      "|                 2|\n",
      "|                 2|\n",
      "|                 2|\n",
      "|                 2|\n",
      "|                 2|\n",
      "|                 2|\n",
      "|                 2|\n",
      "|                 2|\n",
      "+------------------+\n",
      "only showing top 20 rows\n",
      "\n"
     ]
    }
   ],
   "source": [
    "new_df = new_df.replace(['Separated','Married','Single / not married','Widow','Civil marriage'],\n",
    "                        ['1','2','3','4','5'],'NAME_FAMILY_STATUS')\n",
    "\n",
    "new_df.select('NAME_FAMILY_STATUS').show()"
   ]
  },
  {
   "cell_type": "code",
   "execution_count": 31,
   "id": "ef9a3ec9",
   "metadata": {},
   "outputs": [
    {
     "name": "stdout",
     "output_type": "stream",
     "text": [
      "+-------------------+------+\n",
      "|  NAME_HOUSING_TYPE| count|\n",
      "+-------------------+------+\n",
      "|  House / apartment|393831|\n",
      "|Municipal apartment| 14214|\n",
      "|    Co-op apartment|  1539|\n",
      "|   Rented apartment|  5974|\n",
      "|   Office apartment|  3922|\n",
      "|       With parents| 19077|\n",
      "+-------------------+------+\n",
      "\n"
     ]
    }
   ],
   "source": [
    "new_df.groupBy('NAME_HOUSING_TYPE').count().show()"
   ]
  },
  {
   "cell_type": "code",
   "execution_count": 32,
   "id": "7e0ba371",
   "metadata": {},
   "outputs": [
    {
     "name": "stdout",
     "output_type": "stream",
     "text": [
      "+-----------------+\n",
      "|NAME_HOUSING_TYPE|\n",
      "+-----------------+\n",
      "|                4|\n",
      "|                4|\n",
      "|                1|\n",
      "|                1|\n",
      "|                1|\n",
      "|                1|\n",
      "|                1|\n",
      "|                1|\n",
      "|                1|\n",
      "|                1|\n",
      "|                1|\n",
      "|                1|\n",
      "|                1|\n",
      "|                1|\n",
      "|                1|\n",
      "|                1|\n",
      "|                1|\n",
      "|                1|\n",
      "|                1|\n",
      "|                1|\n",
      "+-----------------+\n",
      "only showing top 20 rows\n",
      "\n"
     ]
    }
   ],
   "source": [
    "new_df = new_df.replace(['House / apartment','Municipal apartment','Co-op apartment','Rented apartment','Office apartment','With parents'],\n",
    "                        ['1','2','3','4','5','6'],'NAME_HOUSING_TYPE')\n",
    "\n",
    "new_df.select('NAME_HOUSING_TYPE').show()"
   ]
  },
  {
   "cell_type": "code",
   "execution_count": 33,
   "id": "2d9a8071",
   "metadata": {},
   "outputs": [
    {
     "name": "stdout",
     "output_type": "stream",
     "text": [
      "+-----------------+------+\n",
      "|NAME_HOUSING_TYPE| count|\n",
      "+-----------------+------+\n",
      "|                3|  1539|\n",
      "|                5|  3922|\n",
      "|                6| 19077|\n",
      "|                1|393831|\n",
      "|                4|  5974|\n",
      "|                2| 14214|\n",
      "+-----------------+------+\n",
      "\n"
     ]
    }
   ],
   "source": [
    "new_df.groupBy('NAME_HOUSING_TYPE').count().show()"
   ]
  },
  {
   "cell_type": "code",
   "execution_count": 34,
   "id": "3caae261",
   "metadata": {},
   "outputs": [
    {
     "name": "stdout",
     "output_type": "stream",
     "text": [
      "+--------------------+------+\n",
      "|     OCCUPATION_TYPE| count|\n",
      "+--------------------+------+\n",
      "|                null|134203|\n",
      "|            Managers| 35487|\n",
      "|            HR staff|   774|\n",
      "|      Medicine staff| 13520|\n",
      "|         Accountants| 15985|\n",
      "|            Laborers| 78240|\n",
      "|      Cleaning staff|  5845|\n",
      "|Private service s...|  3456|\n",
      "|             Drivers| 26090|\n",
      "|         Sales staff| 41098|\n",
      "|       Realty agents|  1041|\n",
      "|            IT staff|   604|\n",
      "|      Security staff|  7993|\n",
      "|         Secretaries|  2044|\n",
      "|  Low-skill Laborers|  2140|\n",
      "|          Core staff| 43007|\n",
      "|       Cooking staff|  8076|\n",
      "|High skill tech s...| 17289|\n",
      "|Waiters/barmen staff|  1665|\n",
      "+--------------------+------+\n",
      "\n"
     ]
    }
   ],
   "source": [
    "new_df.groupBy('OCCUPATION_TYPE').count().show()"
   ]
  },
  {
   "cell_type": "code",
   "execution_count": 35,
   "id": "3ac7fa8d",
   "metadata": {},
   "outputs": [
    {
     "name": "stdout",
     "output_type": "stream",
     "text": [
      "+----------+------+\n",
      "|FLAG_MOBIL| count|\n",
      "+----------+------+\n",
      "|         1|438557|\n",
      "+----------+------+\n",
      "\n"
     ]
    }
   ],
   "source": [
    "new_df.groupBy('FLAG_MOBIL').count().show()"
   ]
  },
  {
   "cell_type": "code",
   "execution_count": 36,
   "id": "611ffc73",
   "metadata": {},
   "outputs": [
    {
     "name": "stdout",
     "output_type": "stream",
     "text": [
      "+----------+------+\n",
      "|FLAG_EMAIL| count|\n",
      "+----------+------+\n",
      "|         1| 47455|\n",
      "|         0|391102|\n",
      "+----------+------+\n",
      "\n"
     ]
    }
   ],
   "source": [
    "new_df.groupBy('FLAG_EMAIL').count().show()"
   ]
  },
  {
   "cell_type": "code",
   "execution_count": 37,
   "id": "65dd4dd9",
   "metadata": {},
   "outputs": [
    {
     "name": "stdout",
     "output_type": "stream",
     "text": [
      "+---------------+------+\n",
      "|FLAG_WORK_PHONE| count|\n",
      "+---------------+------+\n",
      "|              1| 90401|\n",
      "|              0|348156|\n",
      "+---------------+------+\n",
      "\n"
     ]
    }
   ],
   "source": [
    "new_df.groupBy('FLAG_WORK_PHONE').count().show()"
   ]
  },
  {
   "cell_type": "code",
   "execution_count": 38,
   "id": "07a7725c",
   "metadata": {},
   "outputs": [
    {
     "name": "stdout",
     "output_type": "stream",
     "text": [
      "+----------+------+\n",
      "|FLAG_PHONE| count|\n",
      "+----------+------+\n",
      "|         1|126204|\n",
      "|         0|312353|\n",
      "+----------+------+\n",
      "\n"
     ]
    }
   ],
   "source": [
    "new_df.groupBy('FLAG_PHONE').count().show()"
   ]
  },
  {
   "cell_type": "code",
   "execution_count": 39,
   "id": "3a7b1e88",
   "metadata": {},
   "outputs": [
    {
     "name": "stdout",
     "output_type": "stream",
     "text": [
      "+---------------+------+\n",
      "|CNT_FAM_MEMBERS| count|\n",
      "+---------------+------+\n",
      "|            8.0|     4|\n",
      "|            7.0|   124|\n",
      "|            1.0| 84492|\n",
      "|            4.0| 37356|\n",
      "|           11.0|     5|\n",
      "|           14.0|     4|\n",
      "|            3.0| 77128|\n",
      "|            2.0|233891|\n",
      "|            6.0|   459|\n",
      "|           20.0|     1|\n",
      "|            5.0|  5081|\n",
      "|           15.0|     3|\n",
      "|            9.0|     9|\n",
      "+---------------+------+\n",
      "\n"
     ]
    }
   ],
   "source": [
    "new_df.groupBy('CNT_FAM_MEMBERS').count().show()"
   ]
  },
  {
   "cell_type": "code",
   "execution_count": 40,
   "id": "aa4b8f64",
   "metadata": {},
   "outputs": [],
   "source": [
    "new_df = new_df.drop(\"OCCUPATION_TYPE\")\n",
    "new_df = new_df.drop(\"DAYS_BIRTH\")\n",
    "new_df = new_df.drop(\"DAYS_EMPLOYED\")\n",
    "new_df = new_df.drop(\"FLAG_MOBIL\")\n",
    "new_df = new_df.drop(\"FLAG_WORK_PHONE\")\n",
    "new_df = new_df.drop(\"FLAG_PHONE\")\n",
    "new_df = new_df.drop(\"FLAG_EMAIL\")"
   ]
  },
  {
   "cell_type": "code",
   "execution_count": 41,
   "id": "414058aa",
   "metadata": {},
   "outputs": [
    {
     "name": "stdout",
     "output_type": "stream",
     "text": [
      "root\n",
      " |-- ID: integer (nullable = true)\n",
      " |-- CODE_GENDER: string (nullable = true)\n",
      " |-- FLAG_OWN_CAR: string (nullable = true)\n",
      " |-- FLAG_OWN_REALTY: string (nullable = true)\n",
      " |-- CNT_CHILDREN: integer (nullable = true)\n",
      " |-- AMT_INCOME_TOTAL: double (nullable = true)\n",
      " |-- NAME_INCOME_TYPE: string (nullable = true)\n",
      " |-- NAME_EDUCATION_TYPE: string (nullable = true)\n",
      " |-- NAME_FAMILY_STATUS: string (nullable = true)\n",
      " |-- NAME_HOUSING_TYPE: string (nullable = true)\n",
      " |-- CNT_FAM_MEMBERS: double (nullable = true)\n",
      " |-- AGE: double (nullable = true)\n",
      " |-- YEARS_WORKED: double (nullable = true)\n",
      "\n"
     ]
    }
   ],
   "source": [
    "new_df.printSchema()"
   ]
  },
  {
   "cell_type": "code",
   "execution_count": 42,
   "id": "7c433472",
   "metadata": {},
   "outputs": [],
   "source": [
    "final_df = new_df"
   ]
  },
  {
   "cell_type": "code",
   "execution_count": 43,
   "id": "7442d1ad",
   "metadata": {},
   "outputs": [],
   "source": [
    "final_df = final_df.select(final_df['ID'].cast('integer'),\n",
    "               final_df['CODE_GENDER'].cast('integer'),\n",
    "               final_df['FLAG_OWN_CAR'].cast('integer'),\n",
    "               final_df['FLAG_OWN_REALTY'].cast('integer'),\n",
    "               final_df['CNT_CHILDREN'].cast('integer'),\n",
    "               final_df['AMT_INCOME_TOTAL'].cast('float'),\n",
    "               final_df['NAME_INCOME_TYPE'].cast('integer'),\n",
    "               final_df['NAME_EDUCATION_TYPE'].cast('integer'),\n",
    "               final_df['NAME_FAMILY_STATUS'].cast('integer'),\n",
    "               final_df['NAME_HOUSING_TYPE'].cast('integer'),\n",
    "               final_df['CNT_FAM_MEMBERS'].cast('integer'),\n",
    "               final_df['AGE'].cast('integer'),\n",
    "               final_df['YEARS_WORKED'].cast('integer'))"
   ]
  },
  {
   "cell_type": "code",
   "execution_count": 44,
   "id": "846579b5",
   "metadata": {},
   "outputs": [
    {
     "name": "stdout",
     "output_type": "stream",
     "text": [
      "root\n",
      " |-- ID: integer (nullable = true)\n",
      " |-- CODE_GENDER: integer (nullable = true)\n",
      " |-- FLAG_OWN_CAR: integer (nullable = true)\n",
      " |-- FLAG_OWN_REALTY: integer (nullable = true)\n",
      " |-- CNT_CHILDREN: integer (nullable = true)\n",
      " |-- AMT_INCOME_TOTAL: float (nullable = true)\n",
      " |-- NAME_INCOME_TYPE: integer (nullable = true)\n",
      " |-- NAME_EDUCATION_TYPE: integer (nullable = true)\n",
      " |-- NAME_FAMILY_STATUS: integer (nullable = true)\n",
      " |-- NAME_HOUSING_TYPE: integer (nullable = true)\n",
      " |-- CNT_FAM_MEMBERS: integer (nullable = true)\n",
      " |-- AGE: integer (nullable = true)\n",
      " |-- YEARS_WORKED: integer (nullable = true)\n",
      "\n"
     ]
    }
   ],
   "source": [
    "final_df.printSchema()"
   ]
  },
  {
   "cell_type": "code",
   "execution_count": 45,
   "id": "8ccb4f6b",
   "metadata": {},
   "outputs": [
    {
     "name": "stdout",
     "output_type": "stream",
     "text": [
      "-RECORD 0-----------------------\n",
      " ID                  | 5008804  \n",
      " CODE_GENDER         | 1        \n",
      " FLAG_OWN_CAR        | 1        \n",
      " FLAG_OWN_REALTY     | 1        \n",
      " CNT_CHILDREN        | 0        \n",
      " AMT_INCOME_TOTAL    | 427500.0 \n",
      " NAME_INCOME_TYPE    | 4        \n",
      " NAME_EDUCATION_TYPE | 5        \n",
      " NAME_FAMILY_STATUS  | 5        \n",
      " NAME_HOUSING_TYPE   | 4        \n",
      " CNT_FAM_MEMBERS     | 2        \n",
      " AGE                 | 32       \n",
      " YEARS_WORKED        | 12       \n",
      "-RECORD 1-----------------------\n",
      " ID                  | 5008805  \n",
      " CODE_GENDER         | 1        \n",
      " FLAG_OWN_CAR        | 1        \n",
      " FLAG_OWN_REALTY     | 1        \n",
      " CNT_CHILDREN        | 0        \n",
      " AMT_INCOME_TOTAL    | 427500.0 \n",
      " NAME_INCOME_TYPE    | 4        \n",
      " NAME_EDUCATION_TYPE | 5        \n",
      " NAME_FAMILY_STATUS  | 5        \n",
      " NAME_HOUSING_TYPE   | 4        \n",
      " CNT_FAM_MEMBERS     | 2        \n",
      " AGE                 | 32       \n",
      " YEARS_WORKED        | 12       \n",
      "-RECORD 2-----------------------\n",
      " ID                  | 5008806  \n",
      " CODE_GENDER         | 1        \n",
      " FLAG_OWN_CAR        | 1        \n",
      " FLAG_OWN_REALTY     | 1        \n",
      " CNT_CHILDREN        | 0        \n",
      " AMT_INCOME_TOTAL    | 112500.0 \n",
      " NAME_INCOME_TYPE    | 4        \n",
      " NAME_EDUCATION_TYPE | 3        \n",
      " NAME_FAMILY_STATUS  | 2        \n",
      " NAME_HOUSING_TYPE   | 1        \n",
      " CNT_FAM_MEMBERS     | 2        \n",
      " AGE                 | 58       \n",
      " YEARS_WORKED        | 3        \n",
      "-RECORD 3-----------------------\n",
      " ID                  | 5008808  \n",
      " CODE_GENDER         | 0        \n",
      " FLAG_OWN_CAR        | 0        \n",
      " FLAG_OWN_REALTY     | 1        \n",
      " CNT_CHILDREN        | 0        \n",
      " AMT_INCOME_TOTAL    | 270000.0 \n",
      " NAME_INCOME_TYPE    | 2        \n",
      " NAME_EDUCATION_TYPE | 3        \n",
      " NAME_FAMILY_STATUS  | 3        \n",
      " NAME_HOUSING_TYPE   | 1        \n",
      " CNT_FAM_MEMBERS     | 1        \n",
      " AGE                 | 52       \n",
      " YEARS_WORKED        | 8        \n",
      "-RECORD 4-----------------------\n",
      " ID                  | 5008809  \n",
      " CODE_GENDER         | 0        \n",
      " FLAG_OWN_CAR        | 0        \n",
      " FLAG_OWN_REALTY     | 1        \n",
      " CNT_CHILDREN        | 0        \n",
      " AMT_INCOME_TOTAL    | 270000.0 \n",
      " NAME_INCOME_TYPE    | 2        \n",
      " NAME_EDUCATION_TYPE | 3        \n",
      " NAME_FAMILY_STATUS  | 3        \n",
      " NAME_HOUSING_TYPE   | 1        \n",
      " CNT_FAM_MEMBERS     | 1        \n",
      " AGE                 | 52       \n",
      " YEARS_WORKED        | 8        \n",
      "-RECORD 5-----------------------\n",
      " ID                  | 5008810  \n",
      " CODE_GENDER         | 0        \n",
      " FLAG_OWN_CAR        | 0        \n",
      " FLAG_OWN_REALTY     | 1        \n",
      " CNT_CHILDREN        | 0        \n",
      " AMT_INCOME_TOTAL    | 270000.0 \n",
      " NAME_INCOME_TYPE    | 2        \n",
      " NAME_EDUCATION_TYPE | 3        \n",
      " NAME_FAMILY_STATUS  | 3        \n",
      " NAME_HOUSING_TYPE   | 1        \n",
      " CNT_FAM_MEMBERS     | 1        \n",
      " AGE                 | 52       \n",
      " YEARS_WORKED        | 8        \n",
      "-RECORD 6-----------------------\n",
      " ID                  | 5008811  \n",
      " CODE_GENDER         | 0        \n",
      " FLAG_OWN_CAR        | 0        \n",
      " FLAG_OWN_REALTY     | 1        \n",
      " CNT_CHILDREN        | 0        \n",
      " AMT_INCOME_TOTAL    | 270000.0 \n",
      " NAME_INCOME_TYPE    | 2        \n",
      " NAME_EDUCATION_TYPE | 3        \n",
      " NAME_FAMILY_STATUS  | 3        \n",
      " NAME_HOUSING_TYPE   | 1        \n",
      " CNT_FAM_MEMBERS     | 1        \n",
      " AGE                 | 52       \n",
      " YEARS_WORKED        | 8        \n",
      "-RECORD 7-----------------------\n",
      " ID                  | 5008812  \n",
      " CODE_GENDER         | 0        \n",
      " FLAG_OWN_CAR        | 0        \n",
      " FLAG_OWN_REALTY     | 1        \n",
      " CNT_CHILDREN        | 0        \n",
      " AMT_INCOME_TOTAL    | 283500.0 \n",
      " NAME_INCOME_TYPE    | 5        \n",
      " NAME_EDUCATION_TYPE | 5        \n",
      " NAME_FAMILY_STATUS  | 1        \n",
      " NAME_HOUSING_TYPE   | 1        \n",
      " CNT_FAM_MEMBERS     | 1        \n",
      " AGE                 | 61       \n",
      " YEARS_WORKED        | 40       \n",
      "-RECORD 8-----------------------\n",
      " ID                  | 5008813  \n",
      " CODE_GENDER         | 0        \n",
      " FLAG_OWN_CAR        | 0        \n",
      " FLAG_OWN_REALTY     | 1        \n",
      " CNT_CHILDREN        | 0        \n",
      " AMT_INCOME_TOTAL    | 283500.0 \n",
      " NAME_INCOME_TYPE    | 5        \n",
      " NAME_EDUCATION_TYPE | 5        \n",
      " NAME_FAMILY_STATUS  | 1        \n",
      " NAME_HOUSING_TYPE   | 1        \n",
      " CNT_FAM_MEMBERS     | 1        \n",
      " AGE                 | 61       \n",
      " YEARS_WORKED        | 40       \n",
      "-RECORD 9-----------------------\n",
      " ID                  | 5008814  \n",
      " CODE_GENDER         | 0        \n",
      " FLAG_OWN_CAR        | 0        \n",
      " FLAG_OWN_REALTY     | 1        \n",
      " CNT_CHILDREN        | 0        \n",
      " AMT_INCOME_TOTAL    | 283500.0 \n",
      " NAME_INCOME_TYPE    | 5        \n",
      " NAME_EDUCATION_TYPE | 5        \n",
      " NAME_FAMILY_STATUS  | 1        \n",
      " NAME_HOUSING_TYPE   | 1        \n",
      " CNT_FAM_MEMBERS     | 1        \n",
      " AGE                 | 61       \n",
      " YEARS_WORKED        | 40       \n",
      "-RECORD 10----------------------\n",
      " ID                  | 5008815  \n",
      " CODE_GENDER         | 1        \n",
      " FLAG_OWN_CAR        | 1        \n",
      " FLAG_OWN_REALTY     | 1        \n",
      " CNT_CHILDREN        | 0        \n",
      " AMT_INCOME_TOTAL    | 270000.0 \n",
      " NAME_INCOME_TYPE    | 4        \n",
      " NAME_EDUCATION_TYPE | 5        \n",
      " NAME_FAMILY_STATUS  | 2        \n",
      " NAME_HOUSING_TYPE   | 1        \n",
      " CNT_FAM_MEMBERS     | 2        \n",
      " AGE                 | 46       \n",
      " YEARS_WORKED        | 2        \n",
      "-RECORD 11----------------------\n",
      " ID                  | 5112956  \n",
      " CODE_GENDER         | 1        \n",
      " FLAG_OWN_CAR        | 1        \n",
      " FLAG_OWN_REALTY     | 1        \n",
      " CNT_CHILDREN        | 0        \n",
      " AMT_INCOME_TOTAL    | 270000.0 \n",
      " NAME_INCOME_TYPE    | 4        \n",
      " NAME_EDUCATION_TYPE | 5        \n",
      " NAME_FAMILY_STATUS  | 2        \n",
      " NAME_HOUSING_TYPE   | 1        \n",
      " CNT_FAM_MEMBERS     | 2        \n",
      " AGE                 | 46       \n",
      " YEARS_WORKED        | 2        \n",
      "-RECORD 12----------------------\n",
      " ID                  | 6153651  \n",
      " CODE_GENDER         | 1        \n",
      " FLAG_OWN_CAR        | 1        \n",
      " FLAG_OWN_REALTY     | 1        \n",
      " CNT_CHILDREN        | 0        \n",
      " AMT_INCOME_TOTAL    | 270000.0 \n",
      " NAME_INCOME_TYPE    | 4        \n",
      " NAME_EDUCATION_TYPE | 5        \n",
      " NAME_FAMILY_STATUS  | 2        \n",
      " NAME_HOUSING_TYPE   | 1        \n",
      " CNT_FAM_MEMBERS     | 2        \n",
      " AGE                 | 46       \n",
      " YEARS_WORKED        | 2        \n",
      "-RECORD 13----------------------\n",
      " ID                  | 5008819  \n",
      " CODE_GENDER         | 1        \n",
      " FLAG_OWN_CAR        | 1        \n",
      " FLAG_OWN_REALTY     | 1        \n",
      " CNT_CHILDREN        | 0        \n",
      " AMT_INCOME_TOTAL    | 135000.0 \n",
      " NAME_INCOME_TYPE    | 2        \n",
      " NAME_EDUCATION_TYPE | 3        \n",
      " NAME_FAMILY_STATUS  | 2        \n",
      " NAME_HOUSING_TYPE   | 1        \n",
      " CNT_FAM_MEMBERS     | 2        \n",
      " AGE                 | 48       \n",
      " YEARS_WORKED        | 3        \n",
      "-RECORD 14----------------------\n",
      " ID                  | 5008820  \n",
      " CODE_GENDER         | 1        \n",
      " FLAG_OWN_CAR        | 1        \n",
      " FLAG_OWN_REALTY     | 1        \n",
      " CNT_CHILDREN        | 0        \n",
      " AMT_INCOME_TOTAL    | 135000.0 \n",
      " NAME_INCOME_TYPE    | 2        \n",
      " NAME_EDUCATION_TYPE | 3        \n",
      " NAME_FAMILY_STATUS  | 2        \n",
      " NAME_HOUSING_TYPE   | 1        \n",
      " CNT_FAM_MEMBERS     | 2        \n",
      " AGE                 | 48       \n",
      " YEARS_WORKED        | 3        \n",
      "-RECORD 15----------------------\n",
      " ID                  | 5008821  \n",
      " CODE_GENDER         | 1        \n",
      " FLAG_OWN_CAR        | 1        \n",
      " FLAG_OWN_REALTY     | 1        \n",
      " CNT_CHILDREN        | 0        \n",
      " AMT_INCOME_TOTAL    | 135000.0 \n",
      " NAME_INCOME_TYPE    | 2        \n",
      " NAME_EDUCATION_TYPE | 3        \n",
      " NAME_FAMILY_STATUS  | 2        \n",
      " NAME_HOUSING_TYPE   | 1        \n",
      " CNT_FAM_MEMBERS     | 2        \n",
      " AGE                 | 48       \n",
      " YEARS_WORKED        | 3        \n",
      "-RECORD 16----------------------\n",
      " ID                  | 5008822  \n",
      " CODE_GENDER         | 1        \n",
      " FLAG_OWN_CAR        | 1        \n",
      " FLAG_OWN_REALTY     | 1        \n",
      " CNT_CHILDREN        | 0        \n",
      " AMT_INCOME_TOTAL    | 135000.0 \n",
      " NAME_INCOME_TYPE    | 2        \n",
      " NAME_EDUCATION_TYPE | 3        \n",
      " NAME_FAMILY_STATUS  | 2        \n",
      " NAME_HOUSING_TYPE   | 1        \n",
      " CNT_FAM_MEMBERS     | 2        \n",
      " AGE                 | 48       \n",
      " YEARS_WORKED        | 3        \n",
      "-RECORD 17----------------------\n",
      " ID                  | 5008823  \n",
      " CODE_GENDER         | 1        \n",
      " FLAG_OWN_CAR        | 1        \n",
      " FLAG_OWN_REALTY     | 1        \n",
      " CNT_CHILDREN        | 0        \n",
      " AMT_INCOME_TOTAL    | 135000.0 \n",
      " NAME_INCOME_TYPE    | 2        \n",
      " NAME_EDUCATION_TYPE | 3        \n",
      " NAME_FAMILY_STATUS  | 2        \n",
      " NAME_HOUSING_TYPE   | 1        \n",
      " CNT_FAM_MEMBERS     | 2        \n",
      " AGE                 | 48       \n",
      " YEARS_WORKED        | 3        \n",
      "-RECORD 18----------------------\n",
      " ID                  | 5008824  \n",
      " CODE_GENDER         | 1        \n",
      " FLAG_OWN_CAR        | 1        \n",
      " FLAG_OWN_REALTY     | 1        \n",
      " CNT_CHILDREN        | 0        \n",
      " AMT_INCOME_TOTAL    | 135000.0 \n",
      " NAME_INCOME_TYPE    | 2        \n",
      " NAME_EDUCATION_TYPE | 3        \n",
      " NAME_FAMILY_STATUS  | 2        \n",
      " NAME_HOUSING_TYPE   | 1        \n",
      " CNT_FAM_MEMBERS     | 2        \n",
      " AGE                 | 48       \n",
      " YEARS_WORKED        | 3        \n",
      "-RECORD 19----------------------\n",
      " ID                  | 5008825  \n",
      " CODE_GENDER         | 0        \n",
      " FLAG_OWN_CAR        | 1        \n",
      " FLAG_OWN_REALTY     | 0        \n",
      " CNT_CHILDREN        | 0        \n",
      " AMT_INCOME_TOTAL    | 130500.0 \n",
      " NAME_INCOME_TYPE    | 4        \n",
      " NAME_EDUCATION_TYPE | 2        \n",
      " NAME_FAMILY_STATUS  | 2        \n",
      " NAME_HOUSING_TYPE   | 1        \n",
      " CNT_FAM_MEMBERS     | 2        \n",
      " AGE                 | 29       \n",
      " YEARS_WORKED        | 3        \n",
      "only showing top 20 rows\n",
      "\n"
     ]
    }
   ],
   "source": [
    "final_df.show(vertical = True )"
   ]
  },
  {
   "cell_type": "markdown",
   "id": "e2d856ff",
   "metadata": {},
   "source": [
    "# SECOND DATASET"
   ]
  },
  {
   "cell_type": "code",
   "execution_count": 46,
   "id": "3a6cb61b",
   "metadata": {},
   "outputs": [],
   "source": [
    "sdf = spark.read.csv(\"credit_record.csv\", header=True, inferSchema=True)"
   ]
  },
  {
   "cell_type": "code",
   "execution_count": 47,
   "id": "28234f7d",
   "metadata": {},
   "outputs": [
    {
     "name": "stdout",
     "output_type": "stream",
     "text": [
      "+-------+--------------+------+\n",
      "|     ID|MONTHS_BALANCE|STATUS|\n",
      "+-------+--------------+------+\n",
      "|5001711|             0|     X|\n",
      "|5001711|            -1|     0|\n",
      "|5001711|            -2|     0|\n",
      "|5001711|            -3|     0|\n",
      "|5001712|             0|     C|\n",
      "|5001712|            -1|     C|\n",
      "|5001712|            -2|     C|\n",
      "|5001712|            -3|     C|\n",
      "|5001712|            -4|     C|\n",
      "|5001712|            -5|     C|\n",
      "|5001712|            -6|     C|\n",
      "|5001712|            -7|     C|\n",
      "|5001712|            -8|     C|\n",
      "|5001712|            -9|     0|\n",
      "|5001712|           -10|     0|\n",
      "|5001712|           -11|     0|\n",
      "|5001712|           -12|     0|\n",
      "|5001712|           -13|     0|\n",
      "|5001712|           -14|     0|\n",
      "|5001712|           -15|     0|\n",
      "+-------+--------------+------+\n",
      "only showing top 20 rows\n",
      "\n"
     ]
    }
   ],
   "source": [
    "sdf.show()"
   ]
  },
  {
   "cell_type": "code",
   "execution_count": 48,
   "id": "59f37261",
   "metadata": {},
   "outputs": [
    {
     "name": "stdout",
     "output_type": "stream",
     "text": [
      "root\n",
      " |-- ID: integer (nullable = true)\n",
      " |-- MONTHS_BALANCE: integer (nullable = true)\n",
      " |-- STATUS: string (nullable = true)\n",
      "\n"
     ]
    }
   ],
   "source": [
    "sdf.printSchema()"
   ]
  },
  {
   "cell_type": "code",
   "execution_count": 49,
   "id": "2c54b48b",
   "metadata": {},
   "outputs": [
    {
     "name": "stdout",
     "output_type": "stream",
     "text": [
      "+-------+------------------+-------------------+-------------------+\n",
      "|summary|                ID|     MONTHS_BALANCE|             STATUS|\n",
      "+-------+------------------+-------------------+-------------------+\n",
      "|  count|           1048575|            1048575|            1048575|\n",
      "|   mean| 5068286.424673486|-19.136998307226474|0.05824863961501482|\n",
      "| stddev|46150.578505385296| 14.023497688326556|  0.394987864205249|\n",
      "|    min|           5001711|                -60|                  0|\n",
      "|    max|           5150487|                  0|                  X|\n",
      "+-------+------------------+-------------------+-------------------+\n",
      "\n"
     ]
    }
   ],
   "source": [
    "sdf.describe().show()"
   ]
  },
  {
   "cell_type": "code",
   "execution_count": 50,
   "id": "03486f52",
   "metadata": {},
   "outputs": [
    {
     "name": "stdout",
     "output_type": "stream",
     "text": [
      "+------+------+\n",
      "|STATUS| count|\n",
      "+------+------+\n",
      "|     3|   320|\n",
      "|     0|383120|\n",
      "|     5|  1693|\n",
      "|     C|442031|\n",
      "|     X|209230|\n",
      "|     1| 11090|\n",
      "|     4|   223|\n",
      "|     2|   868|\n",
      "+------+------+\n",
      "\n"
     ]
    }
   ],
   "source": [
    "sdf.groupBy('STATUS').count().show()"
   ]
  },
  {
   "cell_type": "code",
   "execution_count": 51,
   "id": "6ebe7a78",
   "metadata": {},
   "outputs": [
    {
     "name": "stdout",
     "output_type": "stream",
     "text": [
      "+------+\n",
      "|STATUS|\n",
      "+------+\n",
      "|     0|\n",
      "|     0|\n",
      "|     0|\n",
      "|     0|\n",
      "|     0|\n",
      "|     0|\n",
      "|     0|\n",
      "|     0|\n",
      "|     0|\n",
      "|     0|\n",
      "|     0|\n",
      "|     0|\n",
      "|     0|\n",
      "|     0|\n",
      "|     0|\n",
      "|     0|\n",
      "|     0|\n",
      "|     0|\n",
      "|     0|\n",
      "|     0|\n",
      "+------+\n",
      "only showing top 20 rows\n",
      "\n"
     ]
    }
   ],
   "source": [
    "# Making Status to binary classification by making Good clients = 0 and bad clients =1\n",
    "sdf = sdf.replace(['C', 'X'],['0','0'],'STATUS')\n",
    "sdf = sdf.replace(['2', '3', '4', '5'],['1', '1', '1', '1'],'STATUS')\n",
    "sdf.select('STATUS').show()"
   ]
  },
  {
   "cell_type": "code",
   "execution_count": 52,
   "id": "2fa94c32",
   "metadata": {},
   "outputs": [],
   "source": [
    "sdf = sdf.drop('MONTHS_BALANCE')"
   ]
  },
  {
   "cell_type": "code",
   "execution_count": 53,
   "id": "f84e8cfd",
   "metadata": {},
   "outputs": [
    {
     "name": "stdout",
     "output_type": "stream",
     "text": [
      "+-------+------+\n",
      "|     ID|STATUS|\n",
      "+-------+------+\n",
      "|5001711|     0|\n",
      "|5001711|     0|\n",
      "|5001711|     0|\n",
      "|5001711|     0|\n",
      "|5001712|     0|\n",
      "|5001712|     0|\n",
      "|5001712|     0|\n",
      "|5001712|     0|\n",
      "|5001712|     0|\n",
      "|5001712|     0|\n",
      "|5001712|     0|\n",
      "|5001712|     0|\n",
      "|5001712|     0|\n",
      "|5001712|     0|\n",
      "|5001712|     0|\n",
      "|5001712|     0|\n",
      "|5001712|     0|\n",
      "|5001712|     0|\n",
      "|5001712|     0|\n",
      "|5001712|     0|\n",
      "+-------+------+\n",
      "only showing top 20 rows\n",
      "\n"
     ]
    }
   ],
   "source": [
    "sdf.show()"
   ]
  },
  {
   "cell_type": "code",
   "execution_count": 54,
   "id": "38409966",
   "metadata": {},
   "outputs": [
    {
     "name": "stdout",
     "output_type": "stream",
     "text": [
      "(1048575, 2)\n"
     ]
    }
   ],
   "source": [
    "print((sdf.count(), len(sdf.columns)))"
   ]
  },
  {
   "cell_type": "code",
   "execution_count": 55,
   "id": "5baf4640",
   "metadata": {},
   "outputs": [
    {
     "name": "stdout",
     "output_type": "stream",
     "text": [
      "+------+-------+\n",
      "|STATUS|  count|\n",
      "+------+-------+\n",
      "|     0|1034381|\n",
      "|     1|  14194|\n",
      "+------+-------+\n",
      "\n"
     ]
    }
   ],
   "source": [
    "sdf.groupBy('STATUS').count().show()"
   ]
  },
  {
   "cell_type": "code",
   "execution_count": 56,
   "id": "379de77e",
   "metadata": {},
   "outputs": [
    {
     "name": "stdout",
     "output_type": "stream",
     "text": [
      "root\n",
      " |-- ID: integer (nullable = true)\n",
      " |-- STATUS: string (nullable = true)\n",
      "\n"
     ]
    }
   ],
   "source": [
    "sdf.printSchema()"
   ]
  },
  {
   "cell_type": "code",
   "execution_count": 57,
   "id": "58028409",
   "metadata": {},
   "outputs": [],
   "source": [
    "sdf = sdf.select(sdf['ID'].cast('integer'),\n",
    "    sdf['STATUS'].cast('integer'))"
   ]
  },
  {
   "cell_type": "code",
   "execution_count": 58,
   "id": "9a0c75e7",
   "metadata": {},
   "outputs": [
    {
     "name": "stdout",
     "output_type": "stream",
     "text": [
      "root\n",
      " |-- ID: integer (nullable = true)\n",
      " |-- STATUS: integer (nullable = true)\n",
      "\n"
     ]
    }
   ],
   "source": [
    "sdf.printSchema()"
   ]
  },
  {
   "cell_type": "markdown",
   "id": "f20d2087",
   "metadata": {},
   "source": [
    "# Merging Datasets"
   ]
  },
  {
   "cell_type": "code",
   "execution_count": 59,
   "id": "a83c3f42",
   "metadata": {},
   "outputs": [
    {
     "name": "stdout",
     "output_type": "stream",
     "text": [
      "-RECORD 0-----------------------\n",
      " ID                  | 5008804  \n",
      " CODE_GENDER         | 1        \n",
      " FLAG_OWN_CAR        | 1        \n",
      " FLAG_OWN_REALTY     | 1        \n",
      " CNT_CHILDREN        | 0        \n",
      " AMT_INCOME_TOTAL    | 427500.0 \n",
      " NAME_INCOME_TYPE    | 4        \n",
      " NAME_EDUCATION_TYPE | 5        \n",
      " NAME_FAMILY_STATUS  | 5        \n",
      " NAME_HOUSING_TYPE   | 4        \n",
      " CNT_FAM_MEMBERS     | 2        \n",
      " AGE                 | 32       \n",
      " YEARS_WORKED        | 12       \n",
      " STATUS              | 0        \n",
      "-RECORD 1-----------------------\n",
      " ID                  | 5008804  \n",
      " CODE_GENDER         | 1        \n",
      " FLAG_OWN_CAR        | 1        \n",
      " FLAG_OWN_REALTY     | 1        \n",
      " CNT_CHILDREN        | 0        \n",
      " AMT_INCOME_TOTAL    | 427500.0 \n",
      " NAME_INCOME_TYPE    | 4        \n",
      " NAME_EDUCATION_TYPE | 5        \n",
      " NAME_FAMILY_STATUS  | 5        \n",
      " NAME_HOUSING_TYPE   | 4        \n",
      " CNT_FAM_MEMBERS     | 2        \n",
      " AGE                 | 32       \n",
      " YEARS_WORKED        | 12       \n",
      " STATUS              | 0        \n",
      "-RECORD 2-----------------------\n",
      " ID                  | 5008804  \n",
      " CODE_GENDER         | 1        \n",
      " FLAG_OWN_CAR        | 1        \n",
      " FLAG_OWN_REALTY     | 1        \n",
      " CNT_CHILDREN        | 0        \n",
      " AMT_INCOME_TOTAL    | 427500.0 \n",
      " NAME_INCOME_TYPE    | 4        \n",
      " NAME_EDUCATION_TYPE | 5        \n",
      " NAME_FAMILY_STATUS  | 5        \n",
      " NAME_HOUSING_TYPE   | 4        \n",
      " CNT_FAM_MEMBERS     | 2        \n",
      " AGE                 | 32       \n",
      " YEARS_WORKED        | 12       \n",
      " STATUS              | 1        \n",
      "-RECORD 3-----------------------\n",
      " ID                  | 5008804  \n",
      " CODE_GENDER         | 1        \n",
      " FLAG_OWN_CAR        | 1        \n",
      " FLAG_OWN_REALTY     | 1        \n",
      " CNT_CHILDREN        | 0        \n",
      " AMT_INCOME_TOTAL    | 427500.0 \n",
      " NAME_INCOME_TYPE    | 4        \n",
      " NAME_EDUCATION_TYPE | 5        \n",
      " NAME_FAMILY_STATUS  | 5        \n",
      " NAME_HOUSING_TYPE   | 4        \n",
      " CNT_FAM_MEMBERS     | 2        \n",
      " AGE                 | 32       \n",
      " YEARS_WORKED        | 12       \n",
      " STATUS              | 0        \n",
      "-RECORD 4-----------------------\n",
      " ID                  | 5008804  \n",
      " CODE_GENDER         | 1        \n",
      " FLAG_OWN_CAR        | 1        \n",
      " FLAG_OWN_REALTY     | 1        \n",
      " CNT_CHILDREN        | 0        \n",
      " AMT_INCOME_TOTAL    | 427500.0 \n",
      " NAME_INCOME_TYPE    | 4        \n",
      " NAME_EDUCATION_TYPE | 5        \n",
      " NAME_FAMILY_STATUS  | 5        \n",
      " NAME_HOUSING_TYPE   | 4        \n",
      " CNT_FAM_MEMBERS     | 2        \n",
      " AGE                 | 32       \n",
      " YEARS_WORKED        | 12       \n",
      " STATUS              | 0        \n",
      "-RECORD 5-----------------------\n",
      " ID                  | 5008804  \n",
      " CODE_GENDER         | 1        \n",
      " FLAG_OWN_CAR        | 1        \n",
      " FLAG_OWN_REALTY     | 1        \n",
      " CNT_CHILDREN        | 0        \n",
      " AMT_INCOME_TOTAL    | 427500.0 \n",
      " NAME_INCOME_TYPE    | 4        \n",
      " NAME_EDUCATION_TYPE | 5        \n",
      " NAME_FAMILY_STATUS  | 5        \n",
      " NAME_HOUSING_TYPE   | 4        \n",
      " CNT_FAM_MEMBERS     | 2        \n",
      " AGE                 | 32       \n",
      " YEARS_WORKED        | 12       \n",
      " STATUS              | 0        \n",
      "-RECORD 6-----------------------\n",
      " ID                  | 5008804  \n",
      " CODE_GENDER         | 1        \n",
      " FLAG_OWN_CAR        | 1        \n",
      " FLAG_OWN_REALTY     | 1        \n",
      " CNT_CHILDREN        | 0        \n",
      " AMT_INCOME_TOTAL    | 427500.0 \n",
      " NAME_INCOME_TYPE    | 4        \n",
      " NAME_EDUCATION_TYPE | 5        \n",
      " NAME_FAMILY_STATUS  | 5        \n",
      " NAME_HOUSING_TYPE   | 4        \n",
      " CNT_FAM_MEMBERS     | 2        \n",
      " AGE                 | 32       \n",
      " YEARS_WORKED        | 12       \n",
      " STATUS              | 0        \n",
      "-RECORD 7-----------------------\n",
      " ID                  | 5008804  \n",
      " CODE_GENDER         | 1        \n",
      " FLAG_OWN_CAR        | 1        \n",
      " FLAG_OWN_REALTY     | 1        \n",
      " CNT_CHILDREN        | 0        \n",
      " AMT_INCOME_TOTAL    | 427500.0 \n",
      " NAME_INCOME_TYPE    | 4        \n",
      " NAME_EDUCATION_TYPE | 5        \n",
      " NAME_FAMILY_STATUS  | 5        \n",
      " NAME_HOUSING_TYPE   | 4        \n",
      " CNT_FAM_MEMBERS     | 2        \n",
      " AGE                 | 32       \n",
      " YEARS_WORKED        | 12       \n",
      " STATUS              | 0        \n",
      "-RECORD 8-----------------------\n",
      " ID                  | 5008804  \n",
      " CODE_GENDER         | 1        \n",
      " FLAG_OWN_CAR        | 1        \n",
      " FLAG_OWN_REALTY     | 1        \n",
      " CNT_CHILDREN        | 0        \n",
      " AMT_INCOME_TOTAL    | 427500.0 \n",
      " NAME_INCOME_TYPE    | 4        \n",
      " NAME_EDUCATION_TYPE | 5        \n",
      " NAME_FAMILY_STATUS  | 5        \n",
      " NAME_HOUSING_TYPE   | 4        \n",
      " CNT_FAM_MEMBERS     | 2        \n",
      " AGE                 | 32       \n",
      " YEARS_WORKED        | 12       \n",
      " STATUS              | 0        \n",
      "-RECORD 9-----------------------\n",
      " ID                  | 5008804  \n",
      " CODE_GENDER         | 1        \n",
      " FLAG_OWN_CAR        | 1        \n",
      " FLAG_OWN_REALTY     | 1        \n",
      " CNT_CHILDREN        | 0        \n",
      " AMT_INCOME_TOTAL    | 427500.0 \n",
      " NAME_INCOME_TYPE    | 4        \n",
      " NAME_EDUCATION_TYPE | 5        \n",
      " NAME_FAMILY_STATUS  | 5        \n",
      " NAME_HOUSING_TYPE   | 4        \n",
      " CNT_FAM_MEMBERS     | 2        \n",
      " AGE                 | 32       \n",
      " YEARS_WORKED        | 12       \n",
      " STATUS              | 0        \n",
      "-RECORD 10----------------------\n",
      " ID                  | 5008804  \n",
      " CODE_GENDER         | 1        \n",
      " FLAG_OWN_CAR        | 1        \n",
      " FLAG_OWN_REALTY     | 1        \n",
      " CNT_CHILDREN        | 0        \n",
      " AMT_INCOME_TOTAL    | 427500.0 \n",
      " NAME_INCOME_TYPE    | 4        \n",
      " NAME_EDUCATION_TYPE | 5        \n",
      " NAME_FAMILY_STATUS  | 5        \n",
      " NAME_HOUSING_TYPE   | 4        \n",
      " CNT_FAM_MEMBERS     | 2        \n",
      " AGE                 | 32       \n",
      " YEARS_WORKED        | 12       \n",
      " STATUS              | 0        \n",
      "-RECORD 11----------------------\n",
      " ID                  | 5008804  \n",
      " CODE_GENDER         | 1        \n",
      " FLAG_OWN_CAR        | 1        \n",
      " FLAG_OWN_REALTY     | 1        \n",
      " CNT_CHILDREN        | 0        \n",
      " AMT_INCOME_TOTAL    | 427500.0 \n",
      " NAME_INCOME_TYPE    | 4        \n",
      " NAME_EDUCATION_TYPE | 5        \n",
      " NAME_FAMILY_STATUS  | 5        \n",
      " NAME_HOUSING_TYPE   | 4        \n",
      " CNT_FAM_MEMBERS     | 2        \n",
      " AGE                 | 32       \n",
      " YEARS_WORKED        | 12       \n",
      " STATUS              | 0        \n",
      "-RECORD 12----------------------\n",
      " ID                  | 5008804  \n",
      " CODE_GENDER         | 1        \n",
      " FLAG_OWN_CAR        | 1        \n",
      " FLAG_OWN_REALTY     | 1        \n",
      " CNT_CHILDREN        | 0        \n",
      " AMT_INCOME_TOTAL    | 427500.0 \n",
      " NAME_INCOME_TYPE    | 4        \n",
      " NAME_EDUCATION_TYPE | 5        \n",
      " NAME_FAMILY_STATUS  | 5        \n",
      " NAME_HOUSING_TYPE   | 4        \n",
      " CNT_FAM_MEMBERS     | 2        \n",
      " AGE                 | 32       \n",
      " YEARS_WORKED        | 12       \n",
      " STATUS              | 0        \n",
      "-RECORD 13----------------------\n",
      " ID                  | 5008804  \n",
      " CODE_GENDER         | 1        \n",
      " FLAG_OWN_CAR        | 1        \n",
      " FLAG_OWN_REALTY     | 1        \n",
      " CNT_CHILDREN        | 0        \n",
      " AMT_INCOME_TOTAL    | 427500.0 \n",
      " NAME_INCOME_TYPE    | 4        \n",
      " NAME_EDUCATION_TYPE | 5        \n",
      " NAME_FAMILY_STATUS  | 5        \n",
      " NAME_HOUSING_TYPE   | 4        \n",
      " CNT_FAM_MEMBERS     | 2        \n",
      " AGE                 | 32       \n",
      " YEARS_WORKED        | 12       \n",
      " STATUS              | 0        \n",
      "-RECORD 14----------------------\n",
      " ID                  | 5008804  \n",
      " CODE_GENDER         | 1        \n",
      " FLAG_OWN_CAR        | 1        \n",
      " FLAG_OWN_REALTY     | 1        \n",
      " CNT_CHILDREN        | 0        \n",
      " AMT_INCOME_TOTAL    | 427500.0 \n",
      " NAME_INCOME_TYPE    | 4        \n",
      " NAME_EDUCATION_TYPE | 5        \n",
      " NAME_FAMILY_STATUS  | 5        \n",
      " NAME_HOUSING_TYPE   | 4        \n",
      " CNT_FAM_MEMBERS     | 2        \n",
      " AGE                 | 32       \n",
      " YEARS_WORKED        | 12       \n",
      " STATUS              | 0        \n",
      "-RECORD 15----------------------\n",
      " ID                  | 5008804  \n",
      " CODE_GENDER         | 1        \n",
      " FLAG_OWN_CAR        | 1        \n",
      " FLAG_OWN_REALTY     | 1        \n",
      " CNT_CHILDREN        | 0        \n",
      " AMT_INCOME_TOTAL    | 427500.0 \n",
      " NAME_INCOME_TYPE    | 4        \n",
      " NAME_EDUCATION_TYPE | 5        \n",
      " NAME_FAMILY_STATUS  | 5        \n",
      " NAME_HOUSING_TYPE   | 4        \n",
      " CNT_FAM_MEMBERS     | 2        \n",
      " AGE                 | 32       \n",
      " YEARS_WORKED        | 12       \n",
      " STATUS              | 0        \n",
      "-RECORD 16----------------------\n",
      " ID                  | 5008805  \n",
      " CODE_GENDER         | 1        \n",
      " FLAG_OWN_CAR        | 1        \n",
      " FLAG_OWN_REALTY     | 1        \n",
      " CNT_CHILDREN        | 0        \n",
      " AMT_INCOME_TOTAL    | 427500.0 \n",
      " NAME_INCOME_TYPE    | 4        \n",
      " NAME_EDUCATION_TYPE | 5        \n",
      " NAME_FAMILY_STATUS  | 5        \n",
      " NAME_HOUSING_TYPE   | 4        \n",
      " CNT_FAM_MEMBERS     | 2        \n",
      " AGE                 | 32       \n",
      " YEARS_WORKED        | 12       \n",
      " STATUS              | 0        \n",
      "-RECORD 17----------------------\n",
      " ID                  | 5008805  \n",
      " CODE_GENDER         | 1        \n",
      " FLAG_OWN_CAR        | 1        \n",
      " FLAG_OWN_REALTY     | 1        \n",
      " CNT_CHILDREN        | 0        \n",
      " AMT_INCOME_TOTAL    | 427500.0 \n",
      " NAME_INCOME_TYPE    | 4        \n",
      " NAME_EDUCATION_TYPE | 5        \n",
      " NAME_FAMILY_STATUS  | 5        \n",
      " NAME_HOUSING_TYPE   | 4        \n",
      " CNT_FAM_MEMBERS     | 2        \n",
      " AGE                 | 32       \n",
      " YEARS_WORKED        | 12       \n",
      " STATUS              | 0        \n",
      "-RECORD 18----------------------\n",
      " ID                  | 5008805  \n",
      " CODE_GENDER         | 1        \n",
      " FLAG_OWN_CAR        | 1        \n",
      " FLAG_OWN_REALTY     | 1        \n",
      " CNT_CHILDREN        | 0        \n",
      " AMT_INCOME_TOTAL    | 427500.0 \n",
      " NAME_INCOME_TYPE    | 4        \n",
      " NAME_EDUCATION_TYPE | 5        \n",
      " NAME_FAMILY_STATUS  | 5        \n",
      " NAME_HOUSING_TYPE   | 4        \n",
      " CNT_FAM_MEMBERS     | 2        \n",
      " AGE                 | 32       \n",
      " YEARS_WORKED        | 12       \n",
      " STATUS              | 1        \n",
      "-RECORD 19----------------------\n",
      " ID                  | 5008805  \n",
      " CODE_GENDER         | 1        \n",
      " FLAG_OWN_CAR        | 1        \n",
      " FLAG_OWN_REALTY     | 1        \n",
      " CNT_CHILDREN        | 0        \n",
      " AMT_INCOME_TOTAL    | 427500.0 \n",
      " NAME_INCOME_TYPE    | 4        \n",
      " NAME_EDUCATION_TYPE | 5        \n",
      " NAME_FAMILY_STATUS  | 5        \n",
      " NAME_HOUSING_TYPE   | 4        \n",
      " CNT_FAM_MEMBERS     | 2        \n",
      " AGE                 | 32       \n",
      " YEARS_WORKED        | 12       \n",
      " STATUS              | 0        \n",
      "only showing top 20 rows\n",
      "\n"
     ]
    }
   ],
   "source": [
    "data = final_df.join(sdf, on=['ID'], how = 'inner')\n",
    "data.show(vertical=True)"
   ]
  },
  {
   "cell_type": "code",
   "execution_count": 60,
   "id": "dbb78c67",
   "metadata": {},
   "outputs": [
    {
     "name": "stdout",
     "output_type": "stream",
     "text": [
      "(777715, 14)\n"
     ]
    }
   ],
   "source": [
    "print((data.count(), len(data.columns)))"
   ]
  },
  {
   "cell_type": "code",
   "execution_count": 61,
   "id": "a1f5e644",
   "metadata": {},
   "outputs": [
    {
     "name": "stdout",
     "output_type": "stream",
     "text": [
      "(40747, 14)\n"
     ]
    }
   ],
   "source": [
    "data = data.drop_duplicates()\n",
    "print((data.count(), len(data.columns)))"
   ]
  },
  {
   "cell_type": "code",
   "execution_count": 62,
   "id": "21b34f38",
   "metadata": {},
   "outputs": [
    {
     "name": "stdout",
     "output_type": "stream",
     "text": [
      "+-------+------------------+------------------+------------------+-------------------+------------------+------------------+------------------+-------------------+------------------+------------------+------------------+------------------+------------------+-------------------+\n",
      "|summary|                ID|       CODE_GENDER|      FLAG_OWN_CAR|    FLAG_OWN_REALTY|      CNT_CHILDREN|  AMT_INCOME_TOTAL|  NAME_INCOME_TYPE|NAME_EDUCATION_TYPE|NAME_FAMILY_STATUS| NAME_HOUSING_TYPE|   CNT_FAM_MEMBERS|               AGE|      YEARS_WORKED|             STATUS|\n",
      "+-------+------------------+------------------+------------------+-------------------+------------------+------------------+------------------+-------------------+------------------+------------------+------------------+------------------+------------------+-------------------+\n",
      "|  count|             40747|             40747|             40747|              40747|             40747|             40747|             40747|              40747|             40747|             40747|             40747|             40747|             40747|              40747|\n",
      "|   mean| 5078270.017154637|0.3327852357228753|0.3782364345841412|  0.668392765111542|0.4327925982280904|187397.82738606524| 3.613468476206837|  3.508994527204457|2.4036370775762634| 1.363756840994429|2.2008491422681424| 43.16381574103615|12.261098976611775|0.10530836626009277|\n",
      "| stddev|41861.367040471385|0.4712161626662755|0.4849529934291479|0.47079647014987264| 0.749100845694204|103449.50810990151|1.0208897522398217| 0.9356859042261384|0.9622071299192305|1.1867368207465039|0.9172326461591028|11.516986754290699|13.711439120468993| 0.3069541115435337|\n",
      "|    min|           5008804|                 0|                 0|                  0|                 0|           27000.0|                 1|                  1|                 1|                 1|                 1|                20|                 0|                  0|\n",
      "|    max|           5150487|                 1|                 1|                  1|                19|         1575000.0|                 5|                  5|                 5|                 6|                20|                68|                43|                  1|\n",
      "+-------+------------------+------------------+------------------+-------------------+------------------+------------------+------------------+-------------------+------------------+------------------+------------------+------------------+------------------+-------------------+\n",
      "\n"
     ]
    }
   ],
   "source": [
    "data.describe().show()"
   ]
  },
  {
   "cell_type": "code",
   "execution_count": 63,
   "id": "05a56653",
   "metadata": {},
   "outputs": [
    {
     "name": "stdout",
     "output_type": "stream",
     "text": [
      "root\n",
      " |-- ID: integer (nullable = true)\n",
      " |-- CODE_GENDER: integer (nullable = true)\n",
      " |-- FLAG_OWN_CAR: integer (nullable = true)\n",
      " |-- FLAG_OWN_REALTY: integer (nullable = true)\n",
      " |-- CNT_CHILDREN: integer (nullable = true)\n",
      " |-- AMT_INCOME_TOTAL: float (nullable = true)\n",
      " |-- NAME_INCOME_TYPE: integer (nullable = true)\n",
      " |-- NAME_EDUCATION_TYPE: integer (nullable = true)\n",
      " |-- NAME_FAMILY_STATUS: integer (nullable = true)\n",
      " |-- NAME_HOUSING_TYPE: integer (nullable = true)\n",
      " |-- CNT_FAM_MEMBERS: integer (nullable = true)\n",
      " |-- AGE: integer (nullable = true)\n",
      " |-- YEARS_WORKED: integer (nullable = true)\n",
      " |-- STATUS: integer (nullable = true)\n",
      "\n"
     ]
    }
   ],
   "source": [
    "data.printSchema()"
   ]
  },
  {
   "cell_type": "code",
   "execution_count": 64,
   "id": "1c1c8703",
   "metadata": {},
   "outputs": [],
   "source": [
    "# data.toPandas().to_csv(\"updated.csv\")"
   ]
  },
  {
   "cell_type": "markdown",
   "id": "110fc2d5",
   "metadata": {},
   "source": [
    "# Machine Learning"
   ]
  },
  {
   "cell_type": "code",
   "execution_count": 65,
   "id": "ebf6c4b5",
   "metadata": {},
   "outputs": [
    {
     "data": {
      "text/plain": [
       "['ID',\n",
       " 'CODE_GENDER',\n",
       " 'FLAG_OWN_CAR',\n",
       " 'FLAG_OWN_REALTY',\n",
       " 'CNT_CHILDREN',\n",
       " 'AMT_INCOME_TOTAL',\n",
       " 'NAME_INCOME_TYPE',\n",
       " 'NAME_EDUCATION_TYPE',\n",
       " 'NAME_FAMILY_STATUS',\n",
       " 'NAME_HOUSING_TYPE',\n",
       " 'CNT_FAM_MEMBERS',\n",
       " 'AGE',\n",
       " 'YEARS_WORKED',\n",
       " 'STATUS']"
      ]
     },
     "execution_count": 65,
     "metadata": {},
     "output_type": "execute_result"
    }
   ],
   "source": [
    "data.columns"
   ]
  },
  {
   "cell_type": "code",
   "execution_count": 66,
   "id": "efe1ce63",
   "metadata": {},
   "outputs": [
    {
     "name": "stdout",
     "output_type": "stream",
     "text": [
      "root\n",
      " |-- ID: integer (nullable = true)\n",
      " |-- CODE_GENDER: integer (nullable = true)\n",
      " |-- FLAG_OWN_CAR: integer (nullable = true)\n",
      " |-- FLAG_OWN_REALTY: integer (nullable = true)\n",
      " |-- CNT_CHILDREN: integer (nullable = true)\n",
      " |-- AMT_INCOME_TOTAL: float (nullable = true)\n",
      " |-- NAME_INCOME_TYPE: integer (nullable = true)\n",
      " |-- NAME_EDUCATION_TYPE: integer (nullable = true)\n",
      " |-- NAME_FAMILY_STATUS: integer (nullable = true)\n",
      " |-- NAME_HOUSING_TYPE: integer (nullable = true)\n",
      " |-- CNT_FAM_MEMBERS: integer (nullable = true)\n",
      " |-- AGE: integer (nullable = true)\n",
      " |-- YEARS_WORKED: integer (nullable = true)\n",
      " |-- STATUS: integer (nullable = true)\n",
      "\n"
     ]
    }
   ],
   "source": [
    "data.printSchema()"
   ]
  },
  {
   "cell_type": "code",
   "execution_count": 67,
   "id": "cd46eb62",
   "metadata": {},
   "outputs": [],
   "source": [
    "from pyspark.ml.feature import VectorAssembler"
   ]
  },
  {
   "cell_type": "code",
   "execution_count": 68,
   "id": "17c47c93",
   "metadata": {},
   "outputs": [],
   "source": [
    "assembler = VectorAssembler (inputCols= ['CODE_GENDER','FLAG_OWN_CAR', 'FLAG_OWN_REALTY', 'CNT_CHILDREN',\n",
    "                                         'AMT_INCOME_TOTAL', 'NAME_INCOME_TYPE', 'NAME_EDUCATION_TYPE',\n",
    "                                         'NAME_FAMILY_STATUS', 'NAME_HOUSING_TYPE', 'CNT_FAM_MEMBERS',\n",
    "                                         'AGE', 'YEARS_WORKED'],\n",
    "                             outputCol= 'features')"
   ]
  },
  {
   "cell_type": "code",
   "execution_count": 69,
   "id": "e44c88d8",
   "metadata": {},
   "outputs": [],
   "source": [
    "output = assembler.transform(data)"
   ]
  },
  {
   "cell_type": "code",
   "execution_count": 70,
   "id": "f9c77295",
   "metadata": {},
   "outputs": [],
   "source": [
    "final_data = output.select('features', 'STATUS')"
   ]
  },
  {
   "cell_type": "code",
   "execution_count": 71,
   "id": "ff92f64e",
   "metadata": {},
   "outputs": [],
   "source": [
    "train_data, test_data = final_data.randomSplit([0.7, 0.3])"
   ]
  },
  {
   "cell_type": "code",
   "execution_count": 72,
   "id": "894ea2dc",
   "metadata": {},
   "outputs": [
    {
     "name": "stdout",
     "output_type": "stream",
     "text": [
      "+------+-----+\n",
      "|STATUS|count|\n",
      "+------+-----+\n",
      "|     1| 4291|\n",
      "|     0|36456|\n",
      "+------+-----+\n",
      "\n"
     ]
    }
   ],
   "source": [
    "final_data.groupBy('STATUS').count().show()"
   ]
  },
  {
   "cell_type": "code",
   "execution_count": 73,
   "id": "1cf1d2b0",
   "metadata": {},
   "outputs": [
    {
     "name": "stdout",
     "output_type": "stream",
     "text": [
      "+-------------------------------------------------------+------+\n",
      "|features                                               |STATUS|\n",
      "+-------------------------------------------------------+------+\n",
      "|[0.0,0.0,0.0,0.0,45000.0,3.0,3.0,2.0,1.0,2.0,50.0,10.0]|0     |\n",
      "|[0.0,0.0,0.0,0.0,67500.0,4.0,3.0,2.0,1.0,2.0,50.0,3.0] |0     |\n",
      "|[0.0,0.0,0.0,0.0,67500.0,5.0,3.0,1.0,1.0,1.0,58.0,40.0]|1     |\n",
      "|[0.0,0.0,0.0,0.0,76500.0,5.0,3.0,4.0,1.0,1.0,65.0,40.0]|0     |\n",
      "|[0.0,0.0,0.0,0.0,90000.0,5.0,3.0,3.0,2.0,1.0,64.0,40.0]|0     |\n",
      "+-------------------------------------------------------+------+\n",
      "only showing top 5 rows\n",
      "\n",
      "+--------------------------------------------------------+------+\n",
      "|features                                                |STATUS|\n",
      "+--------------------------------------------------------+------+\n",
      "|[0.0,0.0,0.0,0.0,157500.0,5.0,3.0,2.0,1.0,2.0,55.0,40.0]|0     |\n",
      "|[0.0,0.0,0.0,0.0,202500.0,2.0,2.0,3.0,1.0,1.0,58.0,0.0] |0     |\n",
      "|[0.0,0.0,0.0,1.0,76500.0,4.0,3.0,2.0,1.0,3.0,27.0,2.0]  |0     |\n",
      "|[0.0,0.0,0.0,2.0,67500.0,4.0,3.0,2.0,2.0,4.0,38.0,0.0]  |0     |\n",
      "|[0.0,0.0,1.0,0.0,90000.0,4.0,3.0,2.0,1.0,2.0,54.0,0.0]  |1     |\n",
      "+--------------------------------------------------------+------+\n",
      "only showing top 5 rows\n",
      "\n"
     ]
    }
   ],
   "source": [
    "(train, test) = final_data.randomSplit([0.7, 0.3])\n",
    "\n",
    "train.show(5,False)\n",
    "test.show(5,False)"
   ]
  },
  {
   "cell_type": "markdown",
   "id": "b9bc0e77",
   "metadata": {},
   "source": [
    "# Logistic Regression"
   ]
  },
  {
   "cell_type": "code",
   "execution_count": 74,
   "id": "cff4fc14",
   "metadata": {},
   "outputs": [],
   "source": [
    "from pyspark.ml.classification import LogisticRegression"
   ]
  },
  {
   "cell_type": "code",
   "execution_count": 75,
   "id": "25e13a48",
   "metadata": {},
   "outputs": [],
   "source": [
    "from pyspark.ml.evaluation import BinaryClassificationEvaluator"
   ]
  },
  {
   "cell_type": "code",
   "execution_count": 76,
   "id": "a552b9c8",
   "metadata": {},
   "outputs": [],
   "source": [
    "lreg = LogisticRegression(featuresCol = 'features', labelCol = 'STATUS')\n",
    "lregModel = lreg.fit(train) "
   ]
  },
  {
   "cell_type": "code",
   "execution_count": 77,
   "id": "088cb1a2",
   "metadata": {},
   "outputs": [
    {
     "name": "stdout",
     "output_type": "stream",
     "text": [
      "+--------------------+------+--------------------+----------+--------------------+\n",
      "|            features|STATUS|       rawPrediction|prediction|         probability|\n",
      "+--------------------+------+--------------------+----------+--------------------+\n",
      "|[0.0,0.0,0.0,0.0,...|     0|[2.13393727567106...|       0.0|[0.89415820805598...|\n",
      "|[0.0,0.0,0.0,0.0,...|     0|[2.02171387478188...|       0.0|[0.88305811117260...|\n",
      "|[0.0,0.0,0.0,1.0,...|     0|[2.02314938981491...|       0.0|[0.88320627026601...|\n",
      "|[0.0,0.0,0.0,2.0,...|     0|[2.08758438674291...|       0.0|[0.88969057739383...|\n",
      "|[0.0,0.0,1.0,0.0,...|     1|[2.39709261232921...|       0.0|[0.91660533181562...|\n",
      "|[0.0,0.0,1.0,0.0,...|     0|[2.27226358190389...|       0.0|[0.90655372155000...|\n",
      "|[0.0,0.0,1.0,0.0,...|     0|[2.15328489047525...|       0.0|[0.89597533875285...|\n",
      "|[0.0,0.0,1.0,0.0,...|     0|[2.30063868342582...|       0.0|[0.90892992065843...|\n",
      "|[0.0,0.0,1.0,0.0,...|     0|[2.32426314096299...|       0.0|[0.91086666583257...|\n",
      "|[0.0,0.0,1.0,0.0,...|     0|[2.23596584605987...|       0.0|[0.90343308399508...|\n",
      "+--------------------+------+--------------------+----------+--------------------+\n",
      "only showing top 10 rows\n",
      "\n"
     ]
    }
   ],
   "source": [
    "predictions = lregModel.transform(test)\n",
    "predictions.select('features', 'STATUS', 'rawPrediction', 'prediction', 'probability').show(10)"
   ]
  },
  {
   "cell_type": "code",
   "execution_count": 78,
   "id": "08fe65d9",
   "metadata": {},
   "outputs": [
    {
     "name": "stdout",
     "output_type": "stream",
     "text": [
      "Accuracy =   0.5269756285671539\n",
      "Test Error = 0.473024 \n"
     ]
    }
   ],
   "source": [
    "# Evaluate model\n",
    "evl = BinaryClassificationEvaluator(rawPredictionCol=\"rawPrediction\", labelCol = 'STATUS')\n",
    "accuracy = evl.evaluate(predictions)\n",
    "print(\"Accuracy =  \", accuracy)\n",
    "print(\"Test Error = %g \" % (1.0 - accuracy))"
   ]
  },
  {
   "cell_type": "markdown",
   "id": "cdbc0c13",
   "metadata": {},
   "source": [
    "## DecisionTreeClassifier"
   ]
  },
  {
   "cell_type": "code",
   "execution_count": 79,
   "id": "02c3fd17",
   "metadata": {},
   "outputs": [],
   "source": [
    "from pyspark.ml.classification import DecisionTreeClassifier"
   ]
  },
  {
   "cell_type": "code",
   "execution_count": 80,
   "id": "cf416dd6",
   "metadata": {},
   "outputs": [
    {
     "name": "stdout",
     "output_type": "stream",
     "text": [
      "+--------------------+------+----------------+----------+--------------------+\n",
      "|            features|STATUS|   rawPrediction|prediction|         probability|\n",
      "+--------------------+------+----------------+----------+--------------------+\n",
      "|[0.0,0.0,0.0,0.0,...|     0|[25692.0,2992.0]|       0.0|[0.89569097754845...|\n",
      "|[0.0,0.0,0.0,0.0,...|     0|[25692.0,2992.0]|       0.0|[0.89569097754845...|\n",
      "|[0.0,0.0,0.0,1.0,...|     0|[25692.0,2992.0]|       0.0|[0.89569097754845...|\n",
      "|[0.0,0.0,0.0,2.0,...|     0|[25692.0,2992.0]|       0.0|[0.89569097754845...|\n",
      "|[0.0,0.0,1.0,0.0,...|     1|[25692.0,2992.0]|       0.0|[0.89569097754845...|\n",
      "|[0.0,0.0,1.0,0.0,...|     0|[25692.0,2992.0]|       0.0|[0.89569097754845...|\n",
      "|[0.0,0.0,1.0,0.0,...|     0|[25692.0,2992.0]|       0.0|[0.89569097754845...|\n",
      "|[0.0,0.0,1.0,0.0,...|     0|[25692.0,2992.0]|       0.0|[0.89569097754845...|\n",
      "|[0.0,0.0,1.0,0.0,...|     0|[25692.0,2992.0]|       0.0|[0.89569097754845...|\n",
      "|[0.0,0.0,1.0,0.0,...|     0|[25692.0,2992.0]|       0.0|[0.89569097754845...|\n",
      "+--------------------+------+----------------+----------+--------------------+\n",
      "only showing top 10 rows\n",
      "\n"
     ]
    }
   ],
   "source": [
    "dc = DecisionTreeClassifier(featuresCol = 'features', labelCol = 'STATUS')\n",
    "dcmodel = dc.fit(train)\n",
    "predictions = dcmodel.transform(test)\n",
    "predictions.select('features', 'STATUS', 'rawPrediction', 'prediction', 'probability').show(10)"
   ]
  },
  {
   "cell_type": "code",
   "execution_count": 81,
   "id": "78882399",
   "metadata": {},
   "outputs": [
    {
     "name": "stdout",
     "output_type": "stream",
     "text": [
      "Accuracy =   0.5\n",
      "Test Error = 0.5 \n"
     ]
    }
   ],
   "source": [
    "# Evaluate model\n",
    "evl = BinaryClassificationEvaluator(rawPredictionCol=\"rawPrediction\", labelCol = 'STATUS')\n",
    "accuracy = evl.evaluate(predictions)\n",
    "print(\"Accuracy =  \", accuracy)\n",
    "print(\"Test Error = %g \" % (1.0 - accuracy))"
   ]
  },
  {
   "cell_type": "markdown",
   "id": "28aeadf9",
   "metadata": {},
   "source": [
    "## RandomForestClassifier"
   ]
  },
  {
   "cell_type": "code",
   "execution_count": 82,
   "id": "4904881e",
   "metadata": {},
   "outputs": [
    {
     "name": "stdout",
     "output_type": "stream",
     "text": [
      "+--------------------+------+--------------------+----------+--------------------+\n",
      "|            features|STATUS|       rawPrediction|prediction|         probability|\n",
      "+--------------------+------+--------------------+----------+--------------------+\n",
      "|[0.0,0.0,0.0,0.0,...|     0|[17.9949839358774...|       0.0|[0.89974919679387...|\n",
      "|[0.0,0.0,0.0,0.0,...|     0|[17.7845216636363...|       0.0|[0.88922608318181...|\n",
      "|[0.0,0.0,0.0,1.0,...|     0|[17.7028377655262...|       0.0|[0.88514188827631...|\n",
      "|[0.0,0.0,0.0,2.0,...|     0|[17.9929882611810...|       0.0|[0.89964941305905...|\n",
      "|[0.0,0.0,1.0,0.0,...|     1|[18.0699447280737...|       0.0|[0.90349723640368...|\n",
      "|[0.0,0.0,1.0,0.0,...|     0|[17.8015003872434...|       0.0|[0.89007501936217...|\n",
      "|[0.0,0.0,1.0,0.0,...|     0|[17.8508092037969...|       0.0|[0.89254046018984...|\n",
      "|[0.0,0.0,1.0,0.0,...|     0|[18.0699447280737...|       0.0|[0.90349723640368...|\n",
      "|[0.0,0.0,1.0,0.0,...|     0|[18.0467225298870...|       0.0|[0.90233612649435...|\n",
      "|[0.0,0.0,1.0,0.0,...|     0|[18.0668843571561...|       0.0|[0.90334421785780...|\n",
      "+--------------------+------+--------------------+----------+--------------------+\n",
      "only showing top 10 rows\n",
      "\n"
     ]
    }
   ],
   "source": [
    "from pyspark.ml.classification import RandomForestClassifier\n",
    "rfrst = RandomForestClassifier(featuresCol = 'features', labelCol = 'STATUS')\n",
    "rfrstModel = rfrst.fit(train)\n",
    "predictions = rfrstModel.transform(test)\n",
    "predictions.select('features', 'STATUS', 'rawPrediction', 'prediction', 'probability').show(10)"
   ]
  },
  {
   "cell_type": "code",
   "execution_count": 83,
   "id": "1334ba88",
   "metadata": {},
   "outputs": [
    {
     "name": "stdout",
     "output_type": "stream",
     "text": [
      "Accuracy =   0.5345151946341824\n",
      "Test Error = 0.465485 \n"
     ]
    }
   ],
   "source": [
    "# Evaluate model\n",
    "evl = BinaryClassificationEvaluator(rawPredictionCol=\"rawPrediction\", labelCol = 'STATUS')\n",
    "accuracy = evl.evaluate(predictions)\n",
    "print(\"Accuracy =  \", accuracy)\n",
    "print(\"Test Error = %g \" % (1.0 - accuracy))"
   ]
  },
  {
   "cell_type": "markdown",
   "id": "41a7d0cc",
   "metadata": {},
   "source": [
    "## NaiveBayes"
   ]
  },
  {
   "cell_type": "code",
   "execution_count": 84,
   "id": "394344b3",
   "metadata": {},
   "outputs": [
    {
     "name": "stdout",
     "output_type": "stream",
     "text": [
      "+--------------------+------+--------------------+----------+--------------------+\n",
      "|            features|STATUS|       rawPrediction|prediction|         probability|\n",
      "+--------------------+------+--------------------+----------+--------------------+\n",
      "|[0.0,0.0,0.0,0.0,...|     0|[-1049.1675229179...|       0.0|[0.99787355022894...|\n",
      "|[0.0,0.0,0.0,0.0,...|     0|[-662.3888302716,...|       0.0|[0.80340354150288...|\n",
      "|[0.0,0.0,0.0,1.0,...|     0|[-431.70580479543...|       0.0|[0.93264492518956...|\n",
      "|[0.0,0.0,0.0,2.0,...|     0|[-537.33747423581...|       0.0|[0.96182830812134...|\n",
      "|[0.0,0.0,1.0,0.0,...|     1|[-631.79040225493...|       0.0|[0.97718427460799...|\n",
      "|[0.0,0.0,1.0,0.0,...|     0|[-582.50609573859...|       0.0|[0.95884995068855...|\n",
      "|[0.0,0.0,1.0,0.0,...|     0|[-555.40063124321...|       0.0|[0.93158512722771...|\n",
      "|[0.0,0.0,1.0,0.0,...|     0|[-558.29745069345...|       0.0|[0.90704575980158...|\n",
      "|[0.0,0.0,1.0,0.0,...|     0|[-1164.8880204302...|       0.0|[0.99938824434019...|\n",
      "|[0.0,0.0,1.0,0.0,...|     0|[-1095.4905764386...|       0.0|[0.99818639079500...|\n",
      "+--------------------+------+--------------------+----------+--------------------+\n",
      "only showing top 10 rows\n",
      "\n"
     ]
    }
   ],
   "source": [
    "from pyspark.ml.classification import NaiveBayes\n",
    "NB = NaiveBayes(featuresCol = 'features', labelCol = 'STATUS')\n",
    "NBModel = NB.fit(train)\n",
    "predictions = NBModel.transform(test)\n",
    "predictions.select('features', 'STATUS', 'rawPrediction', 'prediction', 'probability').show(10)"
   ]
  },
  {
   "cell_type": "code",
   "execution_count": 85,
   "id": "2d718416",
   "metadata": {},
   "outputs": [
    {
     "name": "stdout",
     "output_type": "stream",
     "text": [
      "Accuracy =   0.5142509860227502\n",
      "Test Error = 0.485749 \n"
     ]
    }
   ],
   "source": [
    "# Evaluate model\n",
    "evl = BinaryClassificationEvaluator(rawPredictionCol=\"rawPrediction\", labelCol = 'STATUS')\n",
    "accuracy = evl.evaluate(predictions)\n",
    "print(\"Accuracy =  \", accuracy)\n",
    "print(\"Test Error = %g \" % (1.0 - accuracy))"
   ]
  },
  {
   "cell_type": "markdown",
   "id": "3eb5b2e7",
   "metadata": {},
   "source": [
    "## LinearSVC"
   ]
  },
  {
   "cell_type": "code",
   "execution_count": 86,
   "id": "2cc4b944",
   "metadata": {},
   "outputs": [
    {
     "name": "stdout",
     "output_type": "stream",
     "text": [
      "+--------------------+------+--------------------+----------+\n",
      "|            features|STATUS|       rawPrediction|prediction|\n",
      "+--------------------+------+--------------------+----------+\n",
      "|[0.0,0.0,0.0,0.0,...|     0|[1.04333809884336...|       0.0|\n",
      "|[0.0,0.0,0.0,0.0,...|     0|[1.05928766898310...|       0.0|\n",
      "|[0.0,0.0,0.0,1.0,...|     0|[1.03672497224395...|       0.0|\n",
      "|[0.0,0.0,0.0,2.0,...|     0|[1.05766386091303...|       0.0|\n",
      "|[0.0,0.0,1.0,0.0,...|     1|[1.15364625179383...|       0.0|\n",
      "|[0.0,0.0,1.0,0.0,...|     0|[1.07757010379782...|       0.0|\n",
      "|[0.0,0.0,1.0,0.0,...|     0|[1.04663184608456...|       0.0|\n",
      "|[0.0,0.0,1.0,0.0,...|     0|[1.10317394888460...|       0.0|\n",
      "|[0.0,0.0,1.0,0.0,...|     0|[1.03553594915269...|       0.0|\n",
      "|[0.0,0.0,1.0,0.0,...|     0|[1.06834355905424...|       0.0|\n",
      "+--------------------+------+--------------------+----------+\n",
      "only showing top 10 rows\n",
      "\n"
     ]
    }
   ],
   "source": [
    "from pyspark.ml.classification import LinearSVC\n",
    "LSVC = LinearSVC(featuresCol = 'features', labelCol = 'STATUS')\n",
    "LSVCMODEL = LSVC.fit(train)\n",
    "predictions = LSVCMODEL.transform(test)\n",
    "predictions.select('features', 'STATUS', 'rawPrediction', 'prediction').show(10)"
   ]
  },
  {
   "cell_type": "code",
   "execution_count": 87,
   "id": "b3d23d1a",
   "metadata": {},
   "outputs": [
    {
     "name": "stdout",
     "output_type": "stream",
     "text": [
      "Accuracy =   0.4982691141944081\n",
      "Test Error = 0.501731 \n"
     ]
    }
   ],
   "source": [
    "# Evaluate model\n",
    "evl = BinaryClassificationEvaluator(rawPredictionCol=\"rawPrediction\", labelCol = 'STATUS')\n",
    "accuracy = evl.evaluate(predictions)\n",
    "print(\"Accuracy =  \", accuracy)\n",
    "print(\"Test Error = %g \" % (1.0 - accuracy))"
   ]
  }
 ],
 "metadata": {
  "kernelspec": {
   "display_name": "Python 3",
   "language": "python",
   "name": "python3"
  },
  "language_info": {
   "codemirror_mode": {
    "name": "ipython",
    "version": 3
   },
   "file_extension": ".py",
   "mimetype": "text/x-python",
   "name": "python",
   "nbconvert_exporter": "python",
   "pygments_lexer": "ipython3",
   "version": "3.8.8"
  }
 },
 "nbformat": 4,
 "nbformat_minor": 5
}
